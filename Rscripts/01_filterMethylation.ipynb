{
  "nbformat": 4,
  "nbformat_minor": 0,
  "metadata": {
    "colab": {
      "provenance": [],
      "collapsed_sections": []
    },
    "kernelspec": {
      "name": "python3",
      "display_name": "Python 3"
    },
    "language_info": {
      "name": "python"
    }
  },
  "cells": [
    {
      "cell_type": "markdown",
      "source": [
        "This notebook contains the instructions for reproducing results presented in  \"*Environmental and genealogical signals on DNA methylation in a widespread apomictic dandelion lineage*\" by V.N. Ibañez, M. van Antro, C. Peña Ponton, S. Ivanovic, C.A.M. Wagemaker, F. Gawehns, K.J.F. Verhoeven."
      ],
      "metadata": {
        "id": "BjNx9ydacUOQ"
      }
    },
    {
      "cell_type": "markdown",
      "source": [
        "## Load data and set R environment\n",
        "\n",
        "In this section, we will load the dataset to run the script, configure the working directory and environment."
      ],
      "metadata": {
        "id": "tkwTGytJj0Ja"
      }
    },
    {
      "cell_type": "code",
      "source": [
        "#@title Load files\n",
        "%load_ext rpy2.ipython\n",
        "!rm -r *\n",
        "!mkdir results rawData annotation scripts tmp\n",
        "\n",
        "!wget -c -O scripts/commonFunctions.R https://raw.githubusercontent.com/VeronicaNoe/epiTree/main/Rscripts/commonFunctions.R\n",
        "!wget -c -O rawData/AseI-NsiI_Design_withPlotInfos.txt https://raw.githubusercontent.com/VeronicaNoe/epiTree/main/data4r/AseI-NsiI_Design_withPlotInfos.txt\n",
        "!wget -c -O rawData/Csp6I-NsiI_Design_withPlotInfos.txt https://raw.githubusercontent.com/VeronicaNoe/epiTree/main/data4r/Csp6I-NsiI_Design_withPlotInfos.txt\n",
        "\n",
        "!wget -c -O rawData/AseI-NsiI_methylation.bed https://raw.githubusercontent.com/VeronicaNoe/epiTree/main/data4r/AseI-NsiI_petite_methylation.bed\n",
        "!wget -c -O rawData/Csp6I-NsiI_methylation.bed https://raw.githubusercontent.com/VeronicaNoe/epiTree/main/data4r/Csp6I-NsiI_petite_methylation.bed\n",
        "\n",
        "!wget -c -O annotation/Csp6I-NsiI_mergedAnnot.csv https://raw.githubusercontent.com/VeronicaNoe/epiTree/main/data4r/Csp6I-NsiI_mergedAnnot.csv\n",
        "!wget -c -O annotation/AseI-NsiI_mergedAnnot.csv https://raw.githubusercontent.com/VeronicaNoe/epiTree/main/data4r/AseI-NsiI_mergedAnnot.csv\n"
      ],
      "metadata": {
        "id": "Q--NeS-XcseY",
        "cellView": "form"
      },
      "execution_count": null,
      "outputs": []
    },
    {
      "cell_type": "code",
      "source": [
        "%%R\n",
        "#@title Set R environment\n",
        "rm(list=ls())\n",
        "wd<-getwd()\n",
        "baseDir <- gsub(\"/results\", \"\", wd)\n",
        "scriptDir <- file.path(baseDir, \"scripts\")\n"
      ],
      "metadata": {
        "cellView": "form",
        "id": "ujNjNycZgJLr"
      },
      "execution_count": null,
      "outputs": []
    },
    {
      "cell_type": "code",
      "source": [
        "%%R\n",
        "#@title Install R packages\n",
        "install.packages(c(\"data.table\",\"plyr\",\"dplyr\", \"reshape2\", \"tidyverse\", \"ggplot2\"), quiet=TRUE)\n"
      ],
      "metadata": {
        "id": "D1lbdWNBqJM0"
      },
      "execution_count": null,
      "outputs": []
    },
    {
      "cell_type": "code",
      "source": [
        "%%R\n",
        "#@title Load packages silently\n",
        "suppressPackageStartupMessages({\n",
        "  library(\"data.table\")\n",
        "  library(\"plyr\") #ddply\n",
        "  library(\"dplyr\") #select\n",
        "  library(\"reshape2\") #melt\n",
        "  library(\"tidyverse\") #mutate\n",
        "  library(\"ggplot2\")\n",
        "  source(file.path(scriptDir, \"commonFunctions.R\"), local=TRUE)\n",
        "})"
      ],
      "metadata": {
        "id": "CElzxpA_qQh4",
        "cellView": "form"
      },
      "execution_count": null,
      "outputs": []
    },
    {
      "cell_type": "markdown",
      "source": [
        "# Filtering data step-by-step\n",
        "\n",
        "In this section, we will explore chunk of code to filter the one dataset: *AseI-NsiI*\n"
      ],
      "metadata": {
        "id": "xlZJM64grVYB"
      }
    },
    {
      "cell_type": "markdown",
      "source": [
        "## Load and explore data"
      ],
      "metadata": {
        "id": "bFyd1G545eTm"
      }
    },
    {
      "cell_type": "code",
      "source": [
        "#@title\n",
        "%%R\n",
        "RE<-\"AseI-NsiI\"\n",
        "designTable <- file.path(paste0(baseDir, \"/rawData/\",RE, \"_Design_withPlotInfos.txt\"))\n",
        "infileName <- file.path(paste0(baseDir,\"/rawData/\",RE,\"_methylation.bed\"))\n",
        "annotationFile <- file.path(paste0(baseDir, \"/annotation/\",RE, \"_mergedAnnot.csv\"))\n",
        "rDir <- file.path(baseDir)\n",
        "myData <- f.load.methylation.bed(infileName) \n",
        "colNamesForGrouping <- c(\"Treat\")\n",
        "sampleTab <- f.read.sampleTable(designTable, colNamesForGrouping) # see commonFunctions.R\n",
        "totalCols <- grep(\"_total$\", colnames(myData), value = TRUE)\n",
        "methCov <- myData[,totalCols]\n",
        "colnames(methCov) <- gsub(\"_total$\", \"\", colnames(methCov))\n",
        "#Number of Citosynes (C) in original data set. \n",
        "dimA<-dim(myData)[1]\n",
        "# Match to remove bad samples\n",
        "commonSamples <- sort(intersect(colnames(methCov), rownames(sampleTab)))\n",
        "#allSamples <- union(colnames(methCov), rownames(sampleTab))\n",
        "samplesToRemove <- setdiff(colnames(methCov), commonSamples) #order mathers! biggest first\n",
        "if (length(samplesToRemove) > 0) {\n",
        "  f.print.message(\"Removing\", length(samplesToRemove), \"samples!\")\n",
        "  cat(paste0(samplesToRemove, collapse = '\\n'), '\\n')\n",
        "}\n",
        "### remove bad samples\n",
        "sampleTab <- sampleTab[commonSamples,]\n",
        "dim(methCov)\n",
        "methCov <- methCov[, commonSamples]\n",
        "myData <- myData[, c(\"chr\", \"pos\", \"context\", \"samples_called\", paste0(rep(commonSamples, each = 2), c(\"_methylated\", \"_total\")))]"
      ],
      "metadata": {
        "colab": {
          "base_uri": "https://localhost:8080/"
        },
        "id": "R8q9k6aS3kts",
        "outputId": "1869d5dd-c646-4417-e9dc-972066846306"
      },
      "execution_count": null,
      "outputs": [
        {
          "output_type": "stream",
          "name": "stdout",
          "text": [
            "===  2022 Sep 17 10:13:11 AM === removing 503 positions with multiple contexts. \n",
            "===  2022 Sep 17 10:13:11 AM === Removing 0 samples due to the sampleRemovalInfo column \n"
          ]
        }
      ]
    },
    {
      "cell_type": "code",
      "source": [
        "#@title\n",
        "%%R\n",
        "print(myData[1:10,1:10]) "
      ],
      "metadata": {
        "colab": {
          "base_uri": "https://localhost:8080/"
        },
        "id": "Bcx9A9I778IG",
        "outputId": "14b8b173-f452-4767-f204-8621595a8e0f"
      },
      "execution_count": null,
      "outputs": [
        {
          "output_type": "stream",
          "name": "stdout",
          "text": [
            "   chr pos context samples_called sample_40_AseI_methylated\n",
            "1    1   8     CHH             21                        NA\n",
            "2    1  10     CHH             21                        NA\n",
            "3    1  14     CHH             21                        NA\n",
            "4    1  17     CHH              9                        NA\n",
            "5    1  20     CHH             21                        NA\n",
            "6    1  23     CHG              9                        NA\n",
            "7    1  25     CHG             21                        NA\n",
            "8    1  28     CHH             21                        NA\n",
            "9    1  30     CHH             21                        NA\n",
            "10   1  32     CHH             21                        NA\n",
            "   sample_40_AseI_total sample_30_AseI_methylated sample_30_AseI_total\n",
            "1                    NA                         0                    3\n",
            "2                    NA                         0                    3\n",
            "3                    NA                         0                    3\n",
            "4                    NA                        NA                   NA\n",
            "5                    NA                         0                    3\n",
            "6                    NA                        NA                   NA\n",
            "7                    NA                         2                    3\n",
            "8                    NA                         1                    3\n",
            "9                    NA                         0                    3\n",
            "10                   NA                         0                    3\n",
            "   sample_37_AseI_methylated sample_37_AseI_total\n",
            "1                          1                    2\n",
            "2                          0                    2\n",
            "3                          0                    2\n",
            "4                          0                    1\n",
            "5                          0                    2\n",
            "6                          1                    1\n",
            "7                          1                    2\n",
            "8                          0                    2\n",
            "9                          0                    2\n",
            "10                         0                    2\n"
          ]
        }
      ]
    },
    {
      "cell_type": "code",
      "source": [
        "#@title\n",
        "%%R\n",
        "cat(paste0(\"Number of Citosynes (C) in original data set: \", dimA))"
      ],
      "metadata": {
        "colab": {
          "base_uri": "https://localhost:8080/"
        },
        "id": "6uH9CQG_778Z",
        "outputId": "93b5846f-e56d-49d5-de9e-fe95655880cf"
      },
      "execution_count": null,
      "outputs": [
        {
          "output_type": "stream",
          "name": "stdout",
          "text": [
            "Number of Citosynes (C) in original data set: 8986"
          ]
        }
      ]
    },
    {
      "cell_type": "markdown",
      "source": [
        "## Filtering data by minimum read coverage in each C's.\n",
        "\n",
        "The threshold is 10X."
      ],
      "metadata": {
        "id": "V8uiYuT29cMl"
      }
    },
    {
      "cell_type": "code",
      "source": [
        "#@title\n",
        "%%R\n",
        "bins<-c(0.1,0.2,0.3,0.4,0.5,0.6,0.7,0.8,0.9,0.95,0.9999, 1)\n",
        "quaCov<-quantile(methCov, bins, na.rm=TRUE) # to detect high coverage reads\n",
        "  \n",
        "#transform in NA all values below 10X\n",
        "minCov<-10\n",
        "methCov[(methCov < minCov)] <- NA\n",
        "quaCovB<-quantile(methCov, bins, na.rm=TRUE) # to detect high coverage reads\n",
        "  \n",
        "#set number of samples that are the 80% of samples\n",
        "minCountPerGroup <- round((length(commonSamples)/2)*0.8, 0)\n",
        "tabForSummary <- data.frame(sample = rownames(sampleTab), group = sampleTab$group, stringsAsFactors = FALSE)\n",
        "callsPerGroup <- f.summarize.columns(!is.na(methCov), tabForSummary, sum)\n",
        "maskToKeep <- rowSums(callsPerGroup >= minCountPerGroup) == ncol(callsPerGroup) # c's that are in at least 80% samples\n",
        "\n",
        "if (sum(maskToKeep) == 0) {\n",
        "  f.print.message(\"No cytosine passed the filter, no output.\")\n",
        "  quit(\"no\", 0)\n",
        "}\n",
        "\n",
        "#remove C's that arenot in 80% samples\n",
        "myData <- myData[maskToKeep,]\n",
        "  \n",
        "#subset and store\n",
        "dimB<-dim(myData)[1]\n",
        "dimB"
      ],
      "metadata": {
        "id": "RnPJJW4X4DSO"
      },
      "execution_count": null,
      "outputs": []
    },
    {
      "cell_type": "markdown",
      "source": [
        "## Filtering data by maximum read coverage in each C's.\n",
        "\n",
        "The threshold is the value in the top distribution."
      ],
      "metadata": {
        "id": "R_5KHufiAFLT"
      }
    },
    {
      "cell_type": "code",
      "source": [
        "#@title\n",
        "%%R\n",
        "totalCols <- grep(\"_total$\", colnames(myData), value = TRUE)\n",
        "methCov <- myData[,totalCols]\n",
        "colnames(methCov) <- gsub(\"_total$\", \"\", colnames(methCov))\n",
        "\n",
        "maxCov<-as.numeric(quaCovB[11]) #99.99%\n",
        "methCov[(methCov > maxCov)] <- NA\n",
        "minCountPerGroup <- round((length(commonSamples)/2)*0.8, 0)\n",
        "\n",
        "tabForSummary <- data.frame(sample = rownames(sampleTab), group = sampleTab$group, stringsAsFactors = FALSE) #summarize data for each sample\n",
        "callsPerGroup <- f.summarize.columns(!is.na(methCov), tabForSummary, sum)\n",
        "maskToKeep <- rowSums(callsPerGroup >= minCountPerGroup) == ncol(callsPerGroup) # c's that are in at least 80% samples\n",
        "\n",
        "if (sum(maskToKeep) == 0) {\n",
        "  f.print.message(\"No cytosine passed the filter, no output.\")\n",
        "  #quit(\"no\", 0)\n",
        "}\n",
        "\n",
        "# subset and store\n",
        "myData <- myData[maskToKeep,]"
      ],
      "metadata": {
        "id": "KKLmGVf44Tse"
      },
      "execution_count": null,
      "outputs": []
    },
    {
      "cell_type": "markdown",
      "source": [
        "## Save the filtered dataset\n",
        "\n"
      ],
      "metadata": {
        "id": "zpBUV558Awhv"
      }
    },
    {
      "cell_type": "code",
      "source": [
        "#@title\n",
        "%%R\n",
        "#C's in final data\n",
        "totalCols <- grep(\"_total$\", colnames(myData), value = TRUE)\n",
        "methCov <- myData[,totalCols]\n",
        "methCov[(methCov < minCov) | (methCov > maxCov)] <- NA\n",
        "dimC<-dim(myData)[1]\n",
        "quaCovC<-quantile(methCov, bins, na.rm=TRUE)\n",
        "length(unique(myData$chr)) \n"
      ],
      "metadata": {
        "id": "UI-2ewff4TkZ"
      },
      "execution_count": null,
      "outputs": []
    },
    {
      "cell_type": "code",
      "source": [
        "#@title Check final coverage\n",
        "%%R\n",
        "#see quantile for each sample\n",
        "qua4samples<-c()\n",
        "for (s in 1:ncol(methCov)){\n",
        "  qDis<-quantile(methCov[,1], na.rm=TRUE)\n",
        "  sampleDis<-c(colnames(methCov)[s], qDis)\n",
        "  qua4samples<-rbind(qua4samples, sampleDis)\n",
        "}\n",
        "ctxt<-c(\"CG\", \"CHG\", \"CHH\")\n",
        "tmp <- myData[,c(\"context\",totalCols)]\n",
        "qDisTotal<-quantile(tmp[,2:dim(tmp)[2]], na.rm=TRUE)\n",
        "totalMean<-melt(tmp[,2:dim(tmp)[2]],)\n",
        "totalKeep<-mean(totalMean[,2], na.rm=TRUE)\n",
        "qDisTotal<-c(data.frame(qDisTotal)[,1], totalKeep)\n",
        "out<-c()\n",
        "for(c in ctxt){\n",
        "  tmp2<-subset(tmp, context==c)\n",
        "  toMean<-melt(tmp2[,2:dim(tmp2)[2]],)\n",
        "  toKeep<-mean(toMean[,2], na.rm=TRUE)\n",
        "  qDis<-quantile(tmp2[,2:dim(tmp2)[2]], na.rm=TRUE)\n",
        "  count<-data.frame(qDis)[,1]\n",
        "  tmp_out<-c(count, toKeep)\n",
        "  out<-cbind(out,tmp_out)\n",
        "}\n",
        "out<-cbind(out,qDisTotal)\n",
        "rownames(out)<-c(rownames(data.frame(qDis)),\"mean\")\n",
        "colnames(out)<-c(ctxt,\"qDisTotal\")\n",
        "write.table(out, file = paste0(baseDir,\"/results/\",RE,\"_qDis.txt\"), sep = '\\t', col.names = TRUE, row.names = TRUE, quote = FALSE)"
      ],
      "metadata": {
        "id": "swhyy_XY4TbL"
      },
      "execution_count": null,
      "outputs": []
    },
    {
      "cell_type": "code",
      "source": [
        "#@title Save the report\n",
        "%%R\n",
        "# Save reports\n",
        "sink(paste0(baseDir,\"/tmp/\", RE,\"_Filtering_report.txt\"))\n",
        "paste0(\"Number of Cs from bed file: \", dimA)\n",
        "paste0(\"Quantile coverage from bed file: \")\n",
        "quaCov\n",
        "paste0(\"Number of Cs after 10x filtering: \", dimB)\n",
        "paste0(\"Quantile coverage after 10X: \")\n",
        "quaCovB\n",
        "paste0(\"Number of Cs final file: \", dimC)\n",
        "paste0(\"Quantile coverage final file: \")\n",
        "quaCovC\n",
        "sink()"
      ],
      "metadata": {
        "id": "0eTJIR6d4ikz"
      },
      "execution_count": null,
      "outputs": []
    },
    {
      "cell_type": "markdown",
      "source": [
        "# Run filtering step\n",
        "\n",
        "In this section, the code will run the previous steps for both datasets: *AseI-NsiI* and *Csp6I-NsiI*"
      ],
      "metadata": {
        "id": "_JTyIsCY2gOC"
      }
    },
    {
      "cell_type": "code",
      "source": [
        "%%R\n",
        "#@ title Filter both data set: AseI-NsiI and Csp6I-NsiI\n",
        "RE<-c(\"AseI-NsiI\", \"Csp6I-NsiI\")\n",
        "for (r in 1:length(RE)){\n",
        "  designTable <- file.path(paste0(baseDir, \"/rawData/\",RE[r], \"_Design_withPlotInfos.txt\"))\n",
        "  infileName <- file.path(paste0(baseDir,\"/rawData/\",RE[r],\"_methylation.bed\"))\n",
        "  annotationFile <- file.path(paste0(baseDir, \"/annotation/\",RE[r], \"_mergedAnnot.csv\"))\n",
        "  rDir <- file.path(baseDir)\n",
        "  \n",
        "  ## Load and explore data\n",
        "  myData <- f.load.methylation.bed(infileName) \n",
        "  colNamesForGrouping <- c(\"Treat\")\n",
        "  sampleTab <- f.read.sampleTable(designTable, colNamesForGrouping) # see commonFunctions.R\n",
        "  print(str(myData))\n",
        "  totalCols <- grep(\"_total$\", colnames(myData), value = TRUE)\n",
        "  methCov <- myData[,totalCols]\n",
        "  colnames(methCov) <- gsub(\"_total$\", \"\", colnames(methCov))\n",
        "  \n",
        "  #Number of Citosynes (C) in original data set. \n",
        "  dimA<-dim(myData)[1]\n",
        "  \n",
        "  ## Match to remove bad samples\n",
        "  commonSamples <- sort(intersect(colnames(methCov), rownames(sampleTab)))\n",
        "  #allSamples <- union(colnames(methCov), rownames(sampleTab))\n",
        "  samplesToRemove <- setdiff(colnames(methCov), commonSamples) #order mathers! biggest first\n",
        "  if (length(samplesToRemove) > 0) {\n",
        "    f.print.message(\"Removing\", length(samplesToRemove), \"samples!\")\n",
        "    cat(paste0(samplesToRemove, collapse = '\\n'), '\\n')\n",
        "  }\n",
        "  ### remove bad samples\n",
        "  sampleTab <- sampleTab[commonSamples,]\n",
        "  dim(methCov)\n",
        "  methCov <- methCov[, commonSamples]\n",
        "  myData <- myData[, c(\"chr\", \"pos\", \"context\", \"samples_called\", paste0(rep(commonSamples, each = 2), c(\"_methylated\", \"_total\")))]\n",
        "\n",
        "  ## Filtering data by minimum and maximum coverage\n",
        "  #First start with minimum coverage\n",
        "  bins<-c(0.1,0.2,0.3,0.4,0.5,0.6,0.7,0.8,0.9,0.95,0.9999, 1)\n",
        "  quaCov<-quantile(methCov, bins, na.rm=TRUE) # to detect high coverage reads\n",
        "  \n",
        "  #transform in NA all values below 10X\n",
        "  minCov<-10\n",
        "  methCov[(methCov < minCov)] <- NA\n",
        "  quaCovB<-quantile(methCov, bins, na.rm=TRUE) # to detect high coverage reads\n",
        "  \n",
        "  #set number of samples that are the 80% of samples\n",
        "  minCountPerGroup <- round((length(commonSamples)/2)*0.8, 0)\n",
        "  tabForSummary <- data.frame(sample = rownames(sampleTab), group = sampleTab$group, stringsAsFactors = FALSE)\n",
        "  callsPerGroup <- f.summarize.columns(!is.na(methCov), tabForSummary, sum)\n",
        "  maskToKeep <- rowSums(callsPerGroup >= minCountPerGroup) == ncol(callsPerGroup) # c's that are in at least 80% samples\n",
        "\n",
        "  if (sum(maskToKeep) == 0) {\n",
        "    f.print.message(\"No cytosine passed the filter, no output.\")\n",
        "    quit(\"no\", 0)\n",
        "  }\n",
        "\n",
        "  #remove C's that arenot in 80% samples\n",
        "  myData <- myData[maskToKeep,]\n",
        "  \n",
        "  #subset and store\n",
        "  dimB<-dim(myData)[1]\n",
        "  dimB\n",
        "\n",
        "  #Second, set maximum filtering after removing minimum filtering\n",
        "  totalCols <- grep(\"_total$\", colnames(myData), value = TRUE)\n",
        "  methCov <- myData[,totalCols]\n",
        "  colnames(methCov) <- gsub(\"_total$\", \"\", colnames(methCov))\n",
        "\n",
        "  maxCov<-as.numeric(quaCovB[11]) #99.99%\n",
        "  methCov[(methCov > maxCov)] <- NA\n",
        "  minCountPerGroup <- round((length(commonSamples)/2)*0.8, 0)\n",
        "\n",
        "  tabForSummary <- data.frame(sample = rownames(sampleTab), group = sampleTab$group, stringsAsFactors = FALSE) #summarize data for each sample\n",
        "  callsPerGroup <- f.summarize.columns(!is.na(methCov), tabForSummary, sum)\n",
        "  maskToKeep <- rowSums(callsPerGroup >= minCountPerGroup) == ncol(callsPerGroup) # c's that are in at least 80% samples\n",
        "\n",
        "  if (sum(maskToKeep) == 0) {\n",
        "    f.print.message(\"No cytosine passed the filter, no output.\")\n",
        "    #quit(\"no\", 0)\n",
        "  }\n",
        "\n",
        "  # subset and store\n",
        "  myData <- myData[maskToKeep,]\n",
        "  write.table(myData, file = paste0(baseDir,\"/results/\",RE[r],\"_methylation.filtMETH\"), sep = '\\t', col.names = TRUE, row.names = FALSE, quote = FALSE)\n",
        "  \n",
        "  #C's in final data\n",
        "  totalCols <- grep(\"_total$\", colnames(myData), value = TRUE)\n",
        "  methCov <- myData[,totalCols]\n",
        "  methCov[(methCov < minCov) | (methCov > maxCov)] <- NA\n",
        "  dimC<-dim(myData)[1]\n",
        "  quaCovC<-quantile(methCov, bins, na.rm=TRUE)\n",
        "  length(unique(myData$chr)) \n",
        "\n",
        "  #see quantile for each sample\n",
        "  qua4samples<-c()\n",
        "  for (s in 1:ncol(methCov)){\n",
        "    qDis<-quantile(methCov[,1], na.rm=TRUE)\n",
        "    sampleDis<-c(colnames(methCov)[s], qDis)\n",
        "    qua4samples<-rbind(qua4samples, sampleDis)\n",
        "  }\n",
        "\n",
        "  # Save reports\n",
        "  sink(paste0(baseDir,\"/tmp/\", RE[r],\"_Filtering_report.txt\"))\n",
        "  paste0(\"Number of Cs from bed file: \", dimA)\n",
        "  paste0(\"Quantile coverage from bed file: \")\n",
        "  quaCov\n",
        "  paste0(\"Number of Cs after 10x filtering: \", dimB)\n",
        "  paste0(\"Quantile coverage after 10X: \")\n",
        "  quaCovB\n",
        "  paste0(\"Number of Cs final file: \", dimC)\n",
        "  paste0(\"Quantile coverage final file: \")\n",
        "  quaCovC\n",
        "  sink()\n",
        "  # check coverage\n",
        "  ctxt<-c(\"CG\", \"CHG\", \"CHH\")\n",
        "  tmp <- myData[,c(\"context\",totalCols)]\n",
        "  qDisTotal<-quantile(tmp[,2:dim(tmp)[2]], na.rm=TRUE)\n",
        "  totalMean<-melt(tmp[,2:dim(tmp)[2]],)\n",
        "  totalKeep<-mean(totalMean[,2], na.rm=TRUE)\n",
        "  qDisTotal<-c(data.frame(qDisTotal)[,1], totalKeep)\n",
        "  out<-c()\n",
        "  for(c in ctxt){\n",
        "    tmp2<-subset(tmp, context==c)\n",
        "    toMean<-melt(tmp2[,2:dim(tmp2)[2]],)\n",
        "    toKeep<-mean(toMean[,2], na.rm=TRUE)\n",
        "    qDis<-quantile(tmp2[,2:dim(tmp2)[2]], na.rm=TRUE)\n",
        "    count<-data.frame(qDis)[,1]\n",
        "    tmp_out<-c(count, toKeep)\n",
        "    out<-cbind(out,tmp_out)\n",
        "  }\n",
        "  out<-cbind(out,qDisTotal)\n",
        "  rownames(out)<-c(rownames(data.frame(qDis)),\"mean\")\n",
        "  colnames(out)<-c(ctxt,\"qDisTotal\")\n",
        "  write.table(out, file = paste0(baseDir,\"/results/\",RE[r],\"_qDis.txt\"), sep = '\\t', col.names = TRUE, row.names = TRUE, quote = FALSE)\n",
        "}"
      ],
      "metadata": {
        "colab": {
          "base_uri": "https://localhost:8080/"
        },
        "outputId": "20ed230b-cabb-4863-b850-644f3d5b1a73",
        "id": "zTIVrZar2gOE"
      },
      "execution_count": null,
      "outputs": [
        {
          "output_type": "stream",
          "name": "stdout",
          "text": [
            "===  2022 Sep 17 09:47:11 AM === removing 503 positions with multiple contexts. \n",
            "===  2022 Sep 17 09:47:11 AM === Removing 0 samples due to the sampleRemovalInfo column \n",
            "'data.frame':\t8986 obs. of  84 variables:\n",
            " $ chr                      : int  1 1 1 1 1 1 1 1 1 1 ...\n",
            " $ pos                      : int  8 10 14 17 20 23 25 28 30 32 ...\n",
            " $ context                  : chr  \"CHH\" \"CHH\" \"CHH\" \"CHH\" ...\n",
            " $ samples_called           : num  21 21 21 9 21 9 21 21 21 21 ...\n",
            " $ sample_40_AseI_methylated: int  NA NA NA NA NA NA NA NA NA NA ...\n",
            " $ sample_40_AseI_total     : int  NA NA NA NA NA NA NA NA NA NA ...\n",
            " $ sample_30_AseI_methylated: int  0 0 0 NA 0 NA 2 1 0 0 ...\n",
            " $ sample_30_AseI_total     : int  3 3 3 NA 3 NA 3 3 3 3 ...\n",
            " $ sample_37_AseI_methylated: int  1 0 0 0 0 1 1 0 0 0 ...\n",
            " $ sample_37_AseI_total     : int  2 2 2 1 2 1 2 2 2 2 ...\n",
            " $ sample_20_AseI_methylated: int  NA NA NA NA NA NA NA NA NA NA ...\n",
            " $ sample_20_AseI_total     : int  NA NA NA NA NA NA NA NA NA NA ...\n",
            " $ sample_29_AseI_methylated: int  NA NA NA 0 NA 1 NA NA NA NA ...\n",
            " $ sample_29_AseI_total     : int  NA NA NA 1 NA 1 NA NA NA NA ...\n",
            " $ sample_26_AseI_methylated: int  NA NA NA NA NA NA NA NA NA NA ...\n",
            " $ sample_26_AseI_total     : int  NA NA NA NA NA NA NA NA NA NA ...\n",
            " $ sample_23_AseI_methylated: int  0 0 0 NA 0 NA 1 0 0 0 ...\n",
            " $ sample_23_AseI_total     : int  1 1 1 NA 1 NA 1 1 1 1 ...\n",
            " $ sample_21_AseI_methylated: int  0 0 0 NA 0 NA 1 0 0 0 ...\n",
            " $ sample_21_AseI_total     : int  1 1 1 NA 1 NA 1 1 1 1 ...\n",
            " $ sample_39_AseI_methylated: int  0 0 0 NA 0 NA 1 1 0 0 ...\n",
            " $ sample_39_AseI_total     : int  1 1 1 NA 1 NA 1 1 1 1 ...\n",
            " $ sample_17_AseI_methylated: int  NA NA NA NA NA NA NA NA NA NA ...\n",
            " $ sample_17_AseI_total     : int  NA NA NA NA NA NA NA NA NA NA ...\n",
            " $ sample_31_AseI_methylated: int  NA NA NA NA NA NA NA NA NA NA ...\n",
            " $ sample_31_AseI_total     : int  NA NA NA NA NA NA NA NA NA NA ...\n",
            " $ sample_25_AseI_methylated: int  0 0 0 NA 0 NA 1 1 0 0 ...\n",
            " $ sample_25_AseI_total     : int  1 1 1 NA 1 NA 1 1 1 1 ...\n",
            " $ sample_32_AseI_methylated: int  NA NA NA 0 NA 1 NA NA NA NA ...\n",
            " $ sample_32_AseI_total     : int  NA NA NA 1 NA 1 NA NA NA NA ...\n",
            " $ sample_24_AseI_methylated: int  0 0 0 NA 1 NA 1 1 0 1 ...\n",
            " $ sample_24_AseI_total     : int  1 1 1 NA 1 NA 1 1 1 1 ...\n",
            " $ sample_36_AseI_methylated: int  NA NA NA 0 NA 1 NA NA NA NA ...\n",
            " $ sample_36_AseI_total     : int  NA NA NA 1 NA 1 NA NA NA NA ...\n",
            " $ sample_27_AseI_methylated: int  0 0 0 NA 0 NA 1 1 0 0 ...\n",
            " $ sample_27_AseI_total     : int  2 2 2 NA 2 NA 2 2 2 2 ...\n",
            " $ sample_4_AseI_methylated : int  0 0 0 NA 0 NA 1 0 0 0 ...\n",
            " $ sample_4_AseI_total      : int  1 1 1 NA 1 NA 1 1 1 1 ...\n",
            " $ sample_8_AseI_methylated : int  NA NA NA NA NA NA NA NA NA NA ...\n",
            " $ sample_8_AseI_total      : int  NA NA NA NA NA NA NA NA NA NA ...\n",
            " $ sample_22_AseI_methylated: int  NA NA NA NA NA NA NA NA NA NA ...\n",
            " $ sample_22_AseI_total     : int  NA NA NA NA NA NA NA NA NA NA ...\n",
            " $ sample_18_AseI_methylated: int  0 0 0 NA 0 NA 1 1 0 0 ...\n",
            " $ sample_18_AseI_total     : int  1 1 1 NA 1 NA 1 1 1 1 ...\n",
            " $ sample_10_AseI_methylated: int  NA NA NA NA NA NA NA NA NA NA ...\n",
            " $ sample_10_AseI_total     : int  NA NA NA NA NA NA NA NA NA NA ...\n",
            " $ sample_35_AseI_methylated: int  0 0 0 NA 0 NA 1 0 0 0 ...\n",
            " $ sample_35_AseI_total     : int  1 1 1 NA 1 NA 1 1 1 1 ...\n",
            " $ sample_12_AseI_methylated: int  NA NA NA NA NA NA NA NA NA NA ...\n",
            " $ sample_12_AseI_total     : int  NA NA NA NA NA NA NA NA NA NA ...\n",
            " $ sample_13_AseI_methylated: int  NA NA NA NA NA NA NA NA NA NA ...\n",
            " $ sample_13_AseI_total     : int  NA NA NA NA NA NA NA NA NA NA ...\n",
            " $ sample_28_AseI_methylated: int  0 0 0 NA 0 NA 1 0 0 0 ...\n",
            " $ sample_28_AseI_total     : int  1 1 1 NA 1 NA 1 1 1 1 ...\n",
            " $ sample_34_AseI_methylated: int  0 0 0 0 0 1 1 0 0 0 ...\n",
            " $ sample_34_AseI_total     : int  1 1 1 1 1 1 1 1 1 1 ...\n",
            " $ sample_38_AseI_methylated: int  0 0 0 NA 0 NA 1 0 0 0 ...\n",
            " $ sample_38_AseI_total     : int  1 1 1 NA 1 NA 1 1 1 1 ...\n",
            " $ sample_1_AseI_methylated : int  0 0 0 NA 0 NA 0 0 0 0 ...\n",
            " $ sample_1_AseI_total      : int  1 1 1 NA 1 NA 1 1 1 1 ...\n",
            " $ sample_6_AseI_methylated : int  NA NA NA NA NA NA NA NA NA NA ...\n",
            " $ sample_6_AseI_total      : int  NA NA NA NA NA NA NA NA NA NA ...\n",
            " $ sample_7_AseI_methylated : int  0 0 0 0 1 1 2 0 0 0 ...\n",
            " $ sample_7_AseI_total      : int  2 2 2 1 2 1 2 2 2 2 ...\n",
            " $ sample_16_AseI_methylated: int  NA NA NA NA NA NA NA NA NA NA ...\n",
            " $ sample_16_AseI_total     : int  NA NA NA NA NA NA NA NA NA NA ...\n",
            " $ sample_2_AseI_methylated : int  0 0 0 NA 0 NA 1 0 0 0 ...\n",
            " $ sample_2_AseI_total      : int  1 1 1 NA 1 NA 1 1 1 1 ...\n",
            " $ sample_33_AseI_methylated: int  NA NA NA 0 NA 1 NA NA NA NA ...\n",
            " $ sample_33_AseI_total     : int  NA NA NA 1 NA 1 NA NA NA NA ...\n",
            " $ sample_11_AseI_methylated: int  NA NA NA NA NA NA NA NA NA NA ...\n",
            " $ sample_11_AseI_total     : int  NA NA NA NA NA NA NA NA NA NA ...\n",
            " $ sample_15_AseI_methylated: int  NA NA NA NA NA NA NA NA NA NA ...\n",
            " $ sample_15_AseI_total     : int  NA NA NA NA NA NA NA NA NA NA ...\n",
            " $ sample_3_AseI_methylated : int  0 0 1 NA 0 NA 4 1 0 0 ...\n",
            " $ sample_3_AseI_total      : int  4 4 4 NA 4 NA 4 4 4 4 ...\n",
            " $ sample_5_AseI_methylated : int  0 0 0 0 0 1 1 1 0 0 ...\n",
            " $ sample_5_AseI_total      : int  1 1 1 1 1 1 1 1 1 1 ...\n",
            " $ sample_9_AseI_methylated : int  0 0 0 0 0 1 1 0 0 0 ...\n",
            " $ sample_9_AseI_total      : int  1 1 1 1 1 1 1 1 1 1 ...\n",
            " $ sample_14_AseI_methylated: int  NA NA NA NA NA NA NA NA NA NA ...\n",
            " $ sample_14_AseI_total     : int  NA NA NA NA NA NA NA NA NA NA ...\n",
            " $ sample_19_AseI_methylated: int  0 0 0 NA 0 NA 0 1 0 0 ...\n",
            " $ sample_19_AseI_total     : int  1 1 1 NA 1 NA 1 1 1 1 ...\n",
            "NULL\n",
            "===  2022 Sep 17 09:47:15 AM === Removing 6 samples! \n",
            "sample_26_AseI\n",
            "sample_18_AseI\n",
            "sample_34_AseI\n",
            "sample_38_AseI\n",
            "sample_6_AseI\n",
            "sample_14_AseI \n"
          ]
        },
        {
          "output_type": "stream",
          "name": "stderr",
          "text": [
            "WARNING:rpy2.rinterface_lib.callbacks:R[write to console]: No id variables; using all as measure variables\n",
            "\n",
            "WARNING:rpy2.rinterface_lib.callbacks:R[write to console]: No id variables; using all as measure variables\n",
            "\n",
            "WARNING:rpy2.rinterface_lib.callbacks:R[write to console]: No id variables; using all as measure variables\n",
            "\n",
            "WARNING:rpy2.rinterface_lib.callbacks:R[write to console]: No id variables; using all as measure variables\n",
            "\n"
          ]
        }
      ]
    }
  ]
}