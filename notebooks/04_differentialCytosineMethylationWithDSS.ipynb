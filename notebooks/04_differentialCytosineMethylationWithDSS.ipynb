{
  "nbformat": 4,
  "nbformat_minor": 0,
  "metadata": {
    "colab": {
      "provenance": [],
      "collapsed_sections": []
    },
    "kernelspec": {
      "name": "python3",
      "display_name": "Python 3"
    },
    "language_info": {
      "name": "python"
    }
  },
  "cells": [
    {
      "cell_type": "markdown",
      "source": [
        "This notebook contains the instructions for reproducing results presented in  \"*Environmental and genealogical signals on DNA methylation in a widespread apomictic dandelion lineage*\" by V.N. Ibañez, M. van Antro, C. Peña Ponton, S. Ivanovic, C.A.M. Wagemaker, F. Gawehns, K.J.F. Verhoeven."
      ],
      "metadata": {
        "id": "BjNx9ydacUOQ"
      }
    },
    {
      "cell_type": "markdown",
      "source": [
        "## Load data and set R environment\n",
        "\n",
        "In this section, we will load the dataset to run the script, configure the working directory and environment."
      ],
      "metadata": {
        "id": "tkwTGytJj0Ja"
      }
    },
    {
      "cell_type": "code",
      "source": [
        "#@title Load files\n",
        "%load_ext rpy2.ipython\n",
        "!rm -r *\n",
        "!mkdir results rawData annotation scripts plots tmp\n",
        "\n",
        "!wget -c -O scripts/commonFunctions.R https://raw.githubusercontent.com/VeronicaNoe/epiTree/main/Rscripts/commonFunctions.R\n",
        "!wget -c -O rawData/AseI-NsiI_Design_withPlotInfos.txt https://raw.githubusercontent.com/VeronicaNoe/epiTree/main/data4r/AseI-NsiI_Design_withPlotInfos.txt\n",
        "!wget -c -O rawData/Csp6I-NsiI_Design_withPlotInfos.txt https://raw.githubusercontent.com/VeronicaNoe/epiTree/main/data4r/Csp6I-NsiI_Design_withPlotInfos.txt\n",
        "\n",
        "!wget -c -O rawData/AseI-NsiI_methylation.filtered https://raw.githubusercontent.com/VeronicaNoe/epiTree/main/data4r/AseI-NsiI_petite.methylation.filtered\n",
        "!wget -c -O rawData/Csp6I-NsiI_methylation.filtered https://raw.githubusercontent.com/VeronicaNoe/epiTree/main/data4r/Csp6I-NsiI_petite.methylation.filtered\n",
        "\n",
        "\n",
        "\n",
        "!wget -c -O annotation/Csp6I-NsiI_mergedAnnot.csv https://raw.githubusercontent.com/VeronicaNoe/epiTree/main/data4r/Csp6I-NsiI_mergedAnnot.csv\n",
        "!wget -c -O annotation/AseI-NsiI_mergedAnnot.csv https://raw.githubusercontent.com/VeronicaNoe/epiTree/main/data4r/AseI-NsiI_mergedAnnot.csv\n"
      ],
      "metadata": {
        "id": "Q--NeS-XcseY",
        "cellView": "form"
      },
      "execution_count": null,
      "outputs": []
    },
    {
      "cell_type": "code",
      "source": [
        "%%R\n",
        "#@title Set R environment\n",
        "rm(list=ls())\n",
        "wd<-getwd()\n",
        "baseDir <- gsub(\"/results\", \"\", wd)\n",
        "scriptDir <- file.path(baseDir, \"scripts\")\n"
      ],
      "metadata": {
        "id": "ujNjNycZgJLr"
      },
      "execution_count": 3,
      "outputs": []
    },
    {
      "cell_type": "code",
      "source": [
        "%%R\n",
        "#@title Install R packages\n",
        "install.packages(c(\"data.table\",\"reshape2\",\"dplyr\",\"plyr\", \"BiocManager\"),quiet=TRUE)"
      ],
      "metadata": {
        "id": "D1lbdWNBqJM0",
        "colab": {
          "base_uri": "https://localhost:8080/"
        },
        "outputId": "02973eae-2820-4900-b0df-0debf23aad1d"
      },
      "execution_count": 4,
      "outputs": [
        {
          "output_type": "stream",
          "name": "stderr",
          "text": [
            "WARNING:rpy2.rinterface_lib.callbacks:R[write to console]: also installing the dependency ‘Rcpp’\n",
            "\n",
            "\n"
          ]
        }
      ]
    },
    {
      "cell_type": "code",
      "source": [
        "%%R\n",
        "#@title (take a lot of time)\n",
        "BiocManager::install(\"DSS\", quiet=TRUE)  "
      ],
      "metadata": {
        "colab": {
          "base_uri": "https://localhost:8080/"
        },
        "id": "QQyzcnjZ5hNs",
        "outputId": "554d656a-5c61-4465-e0d4-6460a02ee68b"
      },
      "execution_count": 5,
      "outputs": [
        {
          "output_type": "stream",
          "name": "stderr",
          "text": [
            "WARNING:rpy2.rinterface_lib.callbacks:R[write to console]: 'getOption(\"repos\")' replaces Bioconductor standard repositories, see\n",
            "'?repositories' for details\n",
            "\n",
            "replacement repositories:\n",
            "    CRAN: https://cran.rstudio.com\n",
            "\n",
            "\n",
            "WARNING:rpy2.rinterface_lib.callbacks:R[write to console]: Bioconductor version 3.15 (BiocManager 1.30.18), R 4.2.1 (2022-06-23)\n",
            "\n",
            "WARNING:rpy2.rinterface_lib.callbacks:R[write to console]: Installing package(s) 'BiocVersion', 'DSS'\n",
            "\n",
            "WARNING:rpy2.rinterface_lib.callbacks:R[write to console]: also installing the dependencies ‘rjson’, ‘formatR’, ‘zlibbioc’, ‘bitops’, ‘XML’, ‘GenomicAlignments’, ‘BiocIO’, ‘restfulr’, ‘Rhtslib’, ‘lambda.r’, ‘futile.options’, ‘XVector’, ‘MatrixGenerics’, ‘RCurl’, ‘GenomeInfoDbData’, ‘R.oo’, ‘R.methodsS3’, ‘sparseMatrixStats’, ‘rtracklayer’, ‘Rsamtools’, ‘rhdf5filters’, ‘Rhdf5lib’, ‘BiocGenerics’, ‘futile.logger’, ‘snow’, ‘BH’, ‘GenomicRanges’, ‘SummarizedExperiment’, ‘IRanges’, ‘GenomeInfoDb’, ‘locfit’, ‘gtools’, ‘S4Vectors’, ‘R.utils’, ‘DelayedMatrixStats’, ‘permute’, ‘limma’, ‘DelayedArray’, ‘BSgenome’, ‘Biostrings’, ‘HDF5Array’, ‘rhdf5’, ‘beachmat’, ‘Biobase’, ‘BiocParallel’, ‘bsseq’, ‘matrixStats’\n",
            "\n",
            "\n",
            "WARNING:rpy2.rinterface_lib.callbacks:R[write to console]: Old packages: 'devtools', 'gert', 'openssl', 'roxygen2', 'tibble', 'tidyverse'\n",
            "\n"
          ]
        },
        {
          "name": "stdout",
          "output_type": "stream",
          "text": [
            "Update all/some/none? [a/s/n]: n\n"
          ]
        }
      ]
    },
    {
      "cell_type": "code",
      "source": [
        "%%R\n",
        "#@title Load packages silently\n",
        "## load packages silently\n",
        "suppressPackageStartupMessages({\n",
        "  library(\"data.table\") # file reading\n",
        "  library(\"DSS\")\n",
        "  library(\"plyr\")\n",
        "  library(\"dplyr\")\n",
        "  library(\"reshape2\")\n",
        "  #library(\"tidyr\")\n",
        "  #library(\"tidyverse\")\n",
        "  source(file.path(scriptDir, \"commonFunctions.R\"))\n",
        "})"
      ],
      "metadata": {
        "id": "CElzxpA_qQh4"
      },
      "execution_count": 6,
      "outputs": []
    },
    {
      "cell_type": "markdown",
      "source": [
        "# Analyzing data step-by-step\n",
        "\n",
        "In this section, we will explore chunk of code to filter the one dataset: *AseI-NsiI*\n"
      ],
      "metadata": {
        "id": "xlZJM64grVYB"
      }
    },
    {
      "cell_type": "markdown",
      "source": [
        "## Load and explore data"
      ],
      "metadata": {
        "id": "bFyd1G545eTm"
      }
    },
    {
      "cell_type": "code",
      "source": [
        "#@title\n",
        "%%R\n",
        "RE<-\"AseI-NsiI\"\n",
        "designTable <- file.path(paste0(baseDir, \"/rawData/\",RE, \"_Design_withPlotInfos.txt\"))\n",
        "infileName <- file.path(paste0(baseDir,\"/rawData/\",RE,\"_methylation.filtered\"))\n",
        "annotationFile <- file.path(paste0(baseDir, \"/annotation/\",RE, \"_mergedAnnot.csv\"))\n",
        "## Load data\n",
        "sampleTab <- f.read.sampleTable(designTable) # see commonFunctions.R\n",
        "Data <- f.load.methylation.bed(infileName) # see commonFunctions.R\n",
        "Trt<-c()\n",
        "Ac<-c()\n",
        "feature <- c(\"gene\", \"transposon\", \"repeat\", \"nothing\")\n",
        "ctxt <- c(\"CHH\", \"CG\", \"CHG\")\n",
        "dataFeatCtxt<-c()\n",
        "dfDMC.treat<-NULL\n",
        "dfDMC.acc<-NULL\n"
      ],
      "metadata": {
        "id": "R8q9k6aS3kts",
        "colab": {
          "base_uri": "https://localhost:8080/"
        },
        "outputId": "848be724-17da-4d83-847e-1d24d4b9e91f",
        "cellView": "form"
      },
      "execution_count": 7,
      "outputs": [
        {
          "output_type": "stream",
          "name": "stdout",
          "text": [
            "===  2022 Sep 17 03:13:14 PM === Removing 0 samples due to the sampleRemovalInfo column \n"
          ]
        }
      ]
    },
    {
      "cell_type": "code",
      "source": [
        "#@title calculate DMC\n",
        "%%R\n",
        "\n",
        "for (i in 1:length(feature)){\n",
        "  subAnno <- f.load.merged.annotation(annotationFile, feature[i]) # see commonFunctions.R\n",
        "  if (feature[i] != \"all\"){\n",
        "    toKeep <- gsub(\"chr\", \"\", rownames(subAnno))\n",
        "    before <- nrow(Data)\n",
        "    commonChr <- sort(intersect(toKeep, Data$chr))\n",
        "    myData <- Data[as.character(Data$chr) %in% as.character(commonChr),]\n",
        "    afterFeature <- nrow(myData)\n",
        "    cat(paste(\"Subsetting by feature: \",feature[i], dim(myData)[1], \"rows \\n\"))\n",
        "  }\n",
        "  for (j in 1:length(ctxt)){\n",
        "    if (ctxt[j] != \"all\") {\n",
        "      contextFilter <- ctxt[j]\n",
        "      myD <- subset(myData, context == contextFilter)\n",
        "    }\n",
        "    allSamples <- gsub(\"_total$\", \"\", grep(\"_total$\", colnames(myD), value = TRUE))\n",
        "    sampleTab <- sampleTab[allSamples,]\n",
        "    myD$chr <- as.numeric(myD$chr)\n",
        "    forDSS <- list()\n",
        "    for (curSample in allSamples) {\n",
        "      tempTab <- data.frame(\n",
        "        chr = myD$chr,\n",
        "        pos = myD$pos,\n",
        "        N = myD[[paste0(curSample, \"_total\")]],\n",
        "        X = myD[[paste0(curSample, \"_methylated\")]],\n",
        "        stringsAsFactors = FALSE\n",
        "        )\n",
        "      forDSS[[curSample]] <- tempTab\n",
        "    }\n",
        "    myBS <- makeBSseqData(forDSS, names(forDSS))\n",
        "    myFit <- DMLfit.multiFactor(myBS, sampleTab, formula=~Treat+Acc)\n",
        "    cat(paste(ctxt[j],dim(myD)[1], \"rows \\n\"))\n",
        "    testRes.Treat <- DMLtest.multiFactor(myFit, term=\"Treat\")\n",
        "    testRes.Acc <- DMLtest.multiFactor(myFit, term=\"Acc\")\n",
        "    write.csv(testRes.Treat, paste0(baseDir,\"/tmp/\",RE,\"_\",\"Treat_\",ctxt[j],\"_\", feature[i], \"_DMC_analysis.csv\"),row.names = FALSE)\n",
        "    write.csv(testRes.Acc, paste0(baseDir,\"/tmp/\",RE,\"_\",\"Acc_\",ctxt[j],\"_\", feature[i],\"_DMC_analysis.csv\"),row.names = FALSE)\n",
        "  }\n",
        "}"
      ],
      "metadata": {
        "colab": {
          "base_uri": "https://localhost:8080/"
        },
        "id": "1leaz5UfAry5",
        "outputId": "ee32da32-e310-40d7-b943-ac5190f5d8d7"
      },
      "execution_count": 17,
      "outputs": [
        {
          "output_type": "stream",
          "name": "stdout",
          "text": [
            "Subsetting by feature:  gene 3712 rows \n",
            "Fitting DML model for CpG site: CHH 2615 rows \n",
            "Fitting DML model for CpG site: CG 610 rows \n",
            "Fitting DML model for CpG site: CHG 487 rows \n",
            "Subsetting by feature:  transposon 3312 rows \n",
            "Fitting DML model for CpG site: CHH 2290 rows \n",
            "Fitting DML model for CpG site: CG 604 rows \n",
            "Fitting DML model for CpG site: CHG 418 rows \n",
            "Subsetting by feature:  repeat 1870 rows \n",
            "Fitting DML model for CpG site: CHH 1406 rows \n",
            "Fitting DML model for CpG site: CG 266 rows \n",
            "Fitting DML model for CpG site: CHG 198 rows \n",
            "Subsetting by feature:  nothing 12525 rows \n",
            "Fitting DML model for CpG site: CHH 8828 rows \n",
            "Fitting DML model for CpG site: CG 2231 rows \n",
            "Fitting DML model for CpG site: CHG 1466 rows \n"
          ]
        }
      ]
    },
    {
      "cell_type": "markdown",
      "source": [
        "## Make distance files for each context\n",
        "\n"
      ],
      "metadata": {
        "id": "V8uiYuT29cMl"
      }
    },
    {
      "cell_type": "code",
      "source": [
        "#@title\n",
        "%%R\n",
        "#### summary table\n",
        "inFiles <- list.files(path=paste0(baseDir,\"/tmp\"), pattern = \"_DMC_analysis.csv$\")\n",
        "toSave<-c()\n",
        "outdf<-matrix(NA, nrow=length(inFiles), ncol = 7)\n",
        "for (i in 1:length(inFiles)){\n",
        "  minFDR<-0.05\n",
        "  input<-read.csv(paste0(baseDir,\"/tmp/\",inFiles[i]),header=TRUE, stringsAsFactors = FALSE, sep=\",\")\n",
        "  fileNames<-strsplit(inFiles[i], \"_\" )\n",
        "  subDF<-filter(input, fdrs <= 0.05)\n",
        "  colnames(outdf)<-c(\"RE\",\"Factor\",\"Context\",\"Feature\",\"# DMC\",\"Total_Cs\",\"Region\")\n",
        "  outdf[i,1]<-fileNames[[1]][1] #which RE\n",
        "  outdf[i,2]<-fileNames[[1]][2] #which factor\n",
        "  outdf[i,3]<-fileNames[[1]][3] #which context\n",
        "  outdf[i,4]<-fileNames[[1]][4] #which feature\n",
        "  outdf[i,5]<-nrow(subDF)\n",
        "  outdf[i,6]<-nrow(input)\n",
        "  uniReg<-unique(input$chr)\n",
        "  temp<-matrix(NA, nrow=length(uniReg), ncol = 2)  \n",
        "  for(j in 1:length(uniReg)){\n",
        "    hits<-sum(subDF$chr==uniReg[j])\n",
        "    colnames(temp) <- c(\"chr\",\"ocurrences\")\n",
        "    temp[j,1]<-uniReg[j]\n",
        "    temp[j,2]<-hits\n",
        "  }\n",
        "  temp<-data.frame(temp)\n",
        "  temp <- temp[order(-temp$ocurrences),]\n",
        "  temp<-dplyr::filter(temp, ocurrences>=5)\n",
        "  if (dim(temp)[1]!= 0){\n",
        "    outdf[i,7]<-\"yes\"\n",
        "    write.table(temp,paste0(inFiles[i], \"_DMC_region.csv\"),row.names = FALSE, sep=\"\\t\", col.names=T, quote=FALSE)\n",
        "  } else {\n",
        "    outdf[i,7]<-\"no\"\n",
        "  }\n",
        "}\n",
        "write.table(outdf,paste0(\"00_DMC_summary.csv\"),row.names = FALSE, sep=\"\\t\", col.names=T, quote=FALSE)\n",
        "\n"
      ],
      "metadata": {
        "id": "RnPJJW4X4DSO"
      },
      "execution_count": 18,
      "outputs": []
    },
    {
      "cell_type": "code",
      "source": [
        "#### unique table\n",
        "inFiles <- list.files(path=paste0(baseDir,\"/tmp\"), pattern = \"_DMC_analysis.csv$\")\n",
        "toSave<-c()\n",
        "for (i in 1:length(inFiles)){\n",
        "  input<-read.csv(paste0(baseDir,\"/tmp/\",inFiles[i]), header=TRUE, stringsAsFactors = FALSE, sep=\",\")\n",
        "  fileNames<-strsplit(inFiles[i], \"_\" )\n",
        "  input$RE<-rep(fileNames[[1]][1], times=nrow(input))\n",
        "  input$factor<-rep(fileNames[[1]][2], times=nrow(input))\n",
        "  input$context<-rep(fileNames[[1]][3], times=nrow(input))\n",
        "  input$feature<-rep(fileNames[[1]][4], times=nrow(input))\n",
        "  toSave<-rbind(toSave, input)\n",
        "}\n",
        "write.table(toSave, \"00_DMC_table.csv\",row.names = FALSE, sep=\"\\t\", col.names=T, quote=FALSE)"
      ],
      "metadata": {
        "id": "RO_rRR0NBIzl"
      },
      "execution_count": null,
      "outputs": []
    },
    {
      "cell_type": "markdown",
      "source": [
        "# DMC\n",
        "\n",
        "In this section, the code will run the previous steps for both datasets: *AseI-NsiI* and *Csp6I-NsiI*"
      ],
      "metadata": {
        "id": "_JTyIsCY2gOC"
      }
    },
    {
      "cell_type": "code",
      "source": [
        "%%R\n",
        "#@ title Characterize both data set: AseI-NsiI and Csp6I-NsiI\n",
        "## process both data set\n",
        "RE<-c(\"AseI-NsiI\", \"Csp6I-NsiI\")\n",
        "for (r in 1:length(RE)){\n",
        "  designTable <- file.path(paste0(baseDir, \"/rawData/\",RE[r], \"_Design_withPlotInfos.txt\"))\n",
        "  infileName <- file.path(paste0(baseDir,\"/rawData/\",RE[r],\"_methylation.filtered\"))\n",
        "  annotationFile <- file.path(paste0(baseDir, \"/annotation/\",RE[r], \"_mergedAnnot.csv\"))\n",
        "  sampleTab <- f.read.sampleTable(designTable) # see commonFunctions.R\n",
        "  Data <- f.load.methylation.bed(infileName) # see commonFunctions.R\n",
        "  Trt<-c()\n",
        "  Ac<-c()\n",
        "  feature <- c(\"gene\", \"transposon\", \"repeat\", \"nothing\")\n",
        "  ctxt <- c(\"CHH\", \"CG\", \"CHG\")\n",
        "  dataFeatCtxt<-c()\n",
        "  dfDMC.treat<-NULL\n",
        "  dfDMC.acc<-NULL\n",
        "  for (i in 1:length(feature)){\n",
        "    subAnno <- f.load.merged.annotation(annotationFile, feature[i]) # see commonFunctions.R\n",
        "    if (feature[i] != \"all\") {\n",
        "      toKeep <- gsub(\"chr\", \"\", rownames(subAnno))\n",
        "      before <- nrow(Data)\n",
        "      commonChr <- sort(intersect(toKeep, Data$chr))\n",
        "      myData <- Data[as.character(Data$chr) %in% as.character(commonChr),]\n",
        "      afterFeature <- nrow(myData)\n",
        "      cat(paste(\"Subsetting by feature: \",feature[i], dim(myData)[1], \"rows \\n\"))\n",
        "      }\n",
        "    for (j in 1:length(ctxt)){\n",
        "      if (ctxt[j] != \"all\") {\n",
        "        contextFilter <- ctxt[j]\n",
        "        myD <- subset(myData, context == contextFilter)\n",
        "        }\n",
        "      allSamples <- gsub(\"_total$\", \"\", grep(\"_total$\", colnames(myD), value = TRUE))\n",
        "      sampleTab <- sampleTab[allSamples,]\n",
        "      myD$chr <- as.numeric(myD$chr)\n",
        "      forDSS <- list()\n",
        "      for (curSample in allSamples) {\n",
        "        tempTab <- data.frame(\n",
        "          chr = myD$chr,\n",
        "          pos = myD$pos,\n",
        "          N = myD[[paste0(curSample, \"_total\")]],\n",
        "          X = myD[[paste0(curSample, \"_methylated\")]],\n",
        "          stringsAsFactors = FALSE\n",
        "          )\n",
        "        forDSS[[curSample]] <- tempTab\n",
        "        }\n",
        "      myBS <- makeBSseqData(forDSS, names(forDSS))\n",
        "      myFit <- DMLfit.multiFactor(myBS, sampleTab, formula=~Treat+Acc)\n",
        "      cat(paste(ctxt[j],dim(myD)[1], \"rows \\n\"))\n",
        "      testRes.Treat <- DMLtest.multiFactor(myFit, term=\"Treat\")\n",
        "      testRes.Acc <- DMLtest.multiFactor(myFit, term=\"Acc\")\n",
        "      write.csv(testRes.Treat, paste0(baseDir,\"/tmp/\",RE[r],\"_\",\"Treat_\",ctxt[j],\"_\", feature[i], \"_DMC_analysis.csv\"),row.names = FALSE)\n",
        "      write.csv(testRes.Acc, paste0(baseDir,\"/tmp/\",RE[r],\"_\",\"Acc_\",ctxt[j],\"_\", feature[i],\"_DMC_analysis.csv\"),row.names = FALSE)\n",
        "    }\n",
        "  }\n",
        "}\n",
        "#### summary table\n",
        "inFiles <- list.files(path=paste0(baseDir,\"/tmp\"), pattern = \"_DMC_analysis.csv$\")\n",
        "toSave<-c()\n",
        "outdf<-matrix(NA, nrow=length(inFiles), ncol = 7)\n",
        "  for (i in 1:length(inFiles)){\n",
        "    minFDR<-0.05\n",
        "    input<-read.csv(paste0(baseDir,\"/tmp/\",inFiles[i]),header=TRUE, stringsAsFactors = FALSE, sep=\",\")\n",
        "    fileNames<-strsplit(inFiles[i], \"_\" )\n",
        "    subDF<-filter(input, fdrs <= 0.05)\n",
        "    colnames(outdf)<-c(\"RE\",\"Factor\",\"Context\",\"Feature\",\"# DMC\",\"Total_Cs\",\"Region\")\n",
        "    outdf[i,1]<-fileNames[[1]][1] #which RE\n",
        "    outdf[i,2]<-fileNames[[1]][2] #which factor\n",
        "    outdf[i,3]<-fileNames[[1]][3] #which context\n",
        "    outdf[i,4]<-fileNames[[1]][4] #which feature\n",
        "    outdf[i,5]<-nrow(subDF)\n",
        "    outdf[i,6]<-nrow(input)\n",
        "    uniReg<-unique(input$chr)\n",
        "    temp<-matrix(NA, nrow=length(uniReg), ncol = 2)  \n",
        "    for(j in 1:length(uniReg)){\n",
        "      hits<-sum(subDF$chr==uniReg[j])\n",
        "      colnames(temp) <- c(\"chr\",\"ocurrences\")\n",
        "      temp[j,1]<-uniReg[j]\n",
        "      temp[j,2]<-hits\n",
        "    }\n",
        "    temp<-data.frame(temp)\n",
        "    temp <- temp[order(-temp$ocurrences),]\n",
        "    temp<-dplyr::filter(temp, ocurrences>=5)\n",
        "    if (dim(temp)[1]!= 0){\n",
        "      outdf[i,7]<-\"yes\"\n",
        "      write.table(temp,paste0(inFiles[i], \"_DMC_region.csv\"),row.names = FALSE, sep=\"\\t\", col.names=T, quote=FALSE)\n",
        "    } else {\n",
        "      outdf[i,7]<-\"no\"\n",
        "    }\n",
        "  }\n",
        "write.table(outdf,paste0(\"00_DMC_summary.csv\"),row.names = FALSE, sep=\"\\t\", col.names=T, quote=FALSE)\n",
        "\n",
        "#### unique table\n",
        "inFiles <- list.files(path=paste0(baseDir,\"/tmp\"), pattern = \"_DMC_analysis.csv$\")\n",
        "toSave<-c()\n",
        "for (i in 1:length(inFiles)){\n",
        "  input<-read.csv(paste0(baseDir,\"/tmp/\",inFiles[i]), header=TRUE, stringsAsFactors = FALSE, sep=\",\")\n",
        "  fileNames<-strsplit(inFiles[i], \"_\" )\n",
        "  input$RE<-rep(fileNames[[1]][1], times=nrow(input))\n",
        "  input$factor<-rep(fileNames[[1]][2], times=nrow(input))\n",
        "  input$context<-rep(fileNames[[1]][3], times=nrow(input))\n",
        "  input$feature<-rep(fileNames[[1]][4], times=nrow(input))\n",
        "  toSave<-rbind(toSave, input)\n",
        "}\n",
        "write.table(toSave, \"00_DMC_table.csv\",row.names = FALSE, sep=\"\\t\", col.names=T, quote=FALSE)\n"
      ],
      "metadata": {
        "id": "zTIVrZar2gOE",
        "colab": {
          "base_uri": "https://localhost:8080/"
        },
        "outputId": "b139442f-ed19-4e83-f829-e0c3327ec506"
      },
      "execution_count": 19,
      "outputs": [
        {
          "output_type": "stream",
          "name": "stdout",
          "text": [
            "===  2022 Sep 17 03:36:19 PM === Removing 0 samples due to the sampleRemovalInfo column \n",
            "Subsetting by feature:  gene 3712 rows \n",
            "Fitting DML model for CpG site: CHH 2615 rows \n",
            "Fitting DML model for CpG site: CG 610 rows \n",
            "Fitting DML model for CpG site: CHG 487 rows \n",
            "Subsetting by feature:  transposon 3312 rows \n",
            "Fitting DML model for CpG site: CHH 2290 rows \n",
            "Fitting DML model for CpG site: CG 604 rows \n",
            "Fitting DML model for CpG site: CHG 418 rows \n",
            "Subsetting by feature:  repeat 1870 rows \n",
            "Fitting DML model for CpG site: CHH 1406 rows \n",
            "Fitting DML model for CpG site: CG 266 rows \n",
            "Fitting DML model for CpG site: CHG 198 rows \n",
            "Subsetting by feature:  nothing 12525 rows \n",
            "Fitting DML model for CpG site: CHH 8828 rows \n",
            "Fitting DML model for CpG site: CG 2231 rows \n",
            "Fitting DML model for CpG site: CHG 1466 rows \n",
            "===  2022 Sep 17 03:36:43 PM === Removing 0 samples due to the sampleRemovalInfo column \n",
            "Subsetting by feature:  gene 2248 rows \n",
            "Fitting DML model for CpG site: CHH 1536 rows \n",
            "Fitting DML model for CpG site: CG 375 rows \n",
            "Fitting DML model for CpG site: CHG 337 rows \n",
            "Subsetting by feature:  transposon 6289 rows \n",
            "Fitting DML model for CpG site: CHH 4374 rows \n",
            "Fitting DML model for CpG site: CG 1068 rows \n",
            "Fitting DML model for CpG site: CHG 847 rows \n",
            "Subsetting by feature:  repeat 1017 rows \n",
            "Fitting DML model for CpG site: CHH 648 rows \n",
            "Fitting DML model for CpG site: CG 216 rows \n",
            "Fitting DML model for CpG site: CHG 153 rows \n",
            "Subsetting by feature:  nothing 10445 rows \n",
            "Fitting DML model for CpG site: CHH 7230 rows \n",
            "Fitting DML model for CpG site: CG 1797 rows \n",
            "Fitting DML model for CpG site: CHG 1418 rows \n"
          ]
        }
      ]
    }
  ]
}