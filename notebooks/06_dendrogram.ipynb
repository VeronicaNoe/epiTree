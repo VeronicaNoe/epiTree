{
  "nbformat": 4,
  "nbformat_minor": 0,
  "metadata": {
    "colab": {
      "provenance": [],
      "collapsed_sections": []
    },
    "kernelspec": {
      "name": "python3",
      "display_name": "Python 3"
    },
    "language_info": {
      "name": "python"
    }
  },
  "cells": [
    {
      "cell_type": "markdown",
      "source": [
        "This notebook contains the instructions for reproducing results presented in  \"*Environmental and genealogical signals on DNA methylation in a widespread apomictic dandelion lineage*\" by V.N. Ibañez, M. van Antro, C. Peña Ponton, S. Ivanovic, C.A.M. Wagemaker, F. Gawehns, K.J.F. Verhoeven."
      ],
      "metadata": {
        "id": "BjNx9ydacUOQ"
      }
    },
    {
      "cell_type": "markdown",
      "source": [
        "## Load data and set R environment\n",
        "\n",
        "In this section, we will load the dataset to run the script, configure the working directory and environment."
      ],
      "metadata": {
        "id": "tkwTGytJj0Ja"
      }
    },
    {
      "cell_type": "code",
      "source": [
        "#@title Load files\n",
        "%load_ext rpy2.ipython\n",
        "!rm -r *\n",
        "!mkdir results rawData annotation scripts plots tmp\n",
        "!wget -c -O scripts/commonFunctions.R https://raw.githubusercontent.com/VeronicaNoe/epiTree/main/Rscripts/commonFunctions.R\n",
        "!wget -c -O rawData/SSR_data.csv https://raw.githubusercontent.com/VeronicaNoe/epiTree/main/data4r/SSR_data.csv\n",
        "!wget -c -O rawData/00_DMC_table.csv https://raw.githubusercontent.com/VeronicaNoe/epiTree/main/data4r/00_DMC_table.csv\n",
        "\n",
        "!wget -c -O rawData/AseI-NsiI_Design_withPlotInfos.txt https://raw.githubusercontent.com/VeronicaNoe/epiTree/main/data4r/AseI-NsiI_Design_withPlotInfos.txt\n",
        "!wget -c -O rawData/Csp6I-NsiI_Design_withPlotInfos.txt https://raw.githubusercontent.com/VeronicaNoe/epiTree/main/data4r/Csp6I-NsiI_Design_withPlotInfos.txt\n",
        "\n",
        "!wget -c -O rawData/AseI-NsiI_methylation.filtered https://raw.githubusercontent.com/VeronicaNoe/epiTree/main/data4r/AseI-NsiI_petite.methylation.filtered\n",
        "!wget -c -O rawData/Csp6I-NsiI_methylation.filtered https://raw.githubusercontent.com/VeronicaNoe/epiTree/main/data4r/Csp6I-NsiI_petite.methylation.filtered\n",
        "\n",
        "!wget -c -O annotation/Csp6I-NsiI_mergedAnnot.csv https://raw.githubusercontent.com/VeronicaNoe/epiTree/main/data4r/Csp6I-NsiI_mergedAnnot.csv\n",
        "!wget -c -O annotation/AseI-NsiI_mergedAnnot.csv https://raw.githubusercontent.com/VeronicaNoe/epiTree/main/data4r/AseI-NsiI_mergedAnnot.csv\n"
      ],
      "metadata": {
        "id": "Q--NeS-XcseY",
        "colab": {
          "base_uri": "https://localhost:8080/"
        },
        "outputId": "9d0944af-3d38-410e-e191-a9b5c2688fdf",
        "cellView": "form"
      },
      "execution_count": null,
      "outputs": [
        {
          "output_type": "stream",
          "name": "stdout",
          "text": [
            "The rpy2.ipython extension is already loaded. To reload it, use:\n",
            "  %reload_ext rpy2.ipython\n",
            "--2022-10-18 18:42:49--  https://raw.githubusercontent.com/VeronicaNoe/epiTree/main/Rscripts/commonFunctions.R\n",
            "Resolving raw.githubusercontent.com (raw.githubusercontent.com)... 185.199.108.133, 185.199.109.133, 185.199.110.133, ...\n",
            "Connecting to raw.githubusercontent.com (raw.githubusercontent.com)|185.199.108.133|:443... connected.\n",
            "HTTP request sent, awaiting response... 200 OK\n",
            "Length: 18802 (18K) [text/plain]\n",
            "Saving to: ‘scripts/commonFunctions.R’\n",
            "\n",
            "scripts/commonFunct 100%[===================>]  18.36K  --.-KB/s    in 0.005s  \n",
            "\n",
            "2022-10-18 18:42:49 (3.39 MB/s) - ‘scripts/commonFunctions.R’ saved [18802/18802]\n",
            "\n",
            "--2022-10-18 18:42:50--  https://raw.githubusercontent.com/VeronicaNoe/epiTree/main/data4r/SSR_data.csv\n",
            "Resolving raw.githubusercontent.com (raw.githubusercontent.com)... 185.199.108.133, 185.199.109.133, 185.199.111.133, ...\n",
            "Connecting to raw.githubusercontent.com (raw.githubusercontent.com)|185.199.108.133|:443... connected.\n",
            "HTTP request sent, awaiting response... 200 OK\n",
            "Length: 1482 (1.4K) [text/plain]\n",
            "Saving to: ‘rawData/SSR_data.csv’\n",
            "\n",
            "rawData/SSR_data.cs 100%[===================>]   1.45K  --.-KB/s    in 0s      \n",
            "\n",
            "2022-10-18 18:42:50 (24.4 MB/s) - ‘rawData/SSR_data.csv’ saved [1482/1482]\n",
            "\n",
            "--2022-10-18 18:42:50--  https://raw.githubusercontent.com/VeronicaNoe/epiTree/main/data4r/00_DMC_table.csv\n",
            "Resolving raw.githubusercontent.com (raw.githubusercontent.com)... 185.199.108.133, 185.199.109.133, 185.199.110.133, ...\n",
            "Connecting to raw.githubusercontent.com (raw.githubusercontent.com)|185.199.108.133|:443... connected.\n",
            "HTTP request sent, awaiting response... 200 OK\n",
            "Length: 7426892 (7.1M) [text/plain]\n",
            "Saving to: ‘rawData/00_DMC_table.csv’\n",
            "\n",
            "rawData/00_DMC_tabl 100%[===================>]   7.08M  --.-KB/s    in 0.09s   \n",
            "\n",
            "2022-10-18 18:42:50 (77.4 MB/s) - ‘rawData/00_DMC_table.csv’ saved [7426892/7426892]\n",
            "\n",
            "--2022-10-18 18:42:50--  https://raw.githubusercontent.com/VeronicaNoe/epiTree/main/data4r/AseI-NsiI_Design_withPlotInfos.txt\n",
            "Resolving raw.githubusercontent.com (raw.githubusercontent.com)... 185.199.108.133, 185.199.109.133, 185.199.110.133, ...\n",
            "Connecting to raw.githubusercontent.com (raw.githubusercontent.com)|185.199.108.133|:443... connected.\n",
            "HTTP request sent, awaiting response... 200 OK\n",
            "Length: 2691 (2.6K) [text/plain]\n",
            "Saving to: ‘rawData/AseI-NsiI_Design_withPlotInfos.txt’\n",
            "\n",
            "rawData/AseI-NsiI_D 100%[===================>]   2.63K  --.-KB/s    in 0s      \n",
            "\n",
            "2022-10-18 18:42:50 (42.1 MB/s) - ‘rawData/AseI-NsiI_Design_withPlotInfos.txt’ saved [2691/2691]\n",
            "\n",
            "--2022-10-18 18:42:50--  https://raw.githubusercontent.com/VeronicaNoe/epiTree/main/data4r/Csp6I-NsiI_Design_withPlotInfos.txt\n",
            "Resolving raw.githubusercontent.com (raw.githubusercontent.com)... 185.199.108.133, 185.199.109.133, 185.199.110.133, ...\n",
            "Connecting to raw.githubusercontent.com (raw.githubusercontent.com)|185.199.108.133|:443... connected.\n",
            "HTTP request sent, awaiting response... 200 OK\n",
            "Length: 2725 (2.7K) [text/plain]\n",
            "Saving to: ‘rawData/Csp6I-NsiI_Design_withPlotInfos.txt’\n",
            "\n",
            "rawData/Csp6I-NsiI_ 100%[===================>]   2.66K  --.-KB/s    in 0s      \n",
            "\n",
            "2022-10-18 18:42:50 (33.9 MB/s) - ‘rawData/Csp6I-NsiI_Design_withPlotInfos.txt’ saved [2725/2725]\n",
            "\n",
            "--2022-10-18 18:42:51--  https://raw.githubusercontent.com/VeronicaNoe/epiTree/main/data4r/AseI-NsiI_petite.methylation.filtered\n",
            "Resolving raw.githubusercontent.com (raw.githubusercontent.com)... 185.199.108.133, 185.199.109.133, 185.199.110.133, ...\n",
            "Connecting to raw.githubusercontent.com (raw.githubusercontent.com)|185.199.108.133|:443... connected.\n",
            "HTTP request sent, awaiting response... 200 OK\n",
            "Length: 4093703 (3.9M) [text/plain]\n",
            "Saving to: ‘rawData/AseI-NsiI_methylation.filtered’\n",
            "\n",
            "rawData/AseI-NsiI_m 100%[===================>]   3.90M  --.-KB/s    in 0.07s   \n",
            "\n",
            "2022-10-18 18:42:51 (56.0 MB/s) - ‘rawData/AseI-NsiI_methylation.filtered’ saved [4093703/4093703]\n",
            "\n",
            "--2022-10-18 18:42:51--  https://raw.githubusercontent.com/VeronicaNoe/epiTree/main/data4r/Csp6I-NsiI_petite.methylation.filtered\n",
            "Resolving raw.githubusercontent.com (raw.githubusercontent.com)... 185.199.108.133, 185.199.109.133, 185.199.110.133, ...\n",
            "Connecting to raw.githubusercontent.com (raw.githubusercontent.com)|185.199.108.133|:443... connected.\n",
            "HTTP request sent, awaiting response... 200 OK\n",
            "Length: 4138276 (3.9M) [text/plain]\n",
            "Saving to: ‘rawData/Csp6I-NsiI_methylation.filtered’\n",
            "\n",
            "rawData/Csp6I-NsiI_ 100%[===================>]   3.95M  --.-KB/s    in 0.07s   \n",
            "\n",
            "2022-10-18 18:42:51 (57.7 MB/s) - ‘rawData/Csp6I-NsiI_methylation.filtered’ saved [4138276/4138276]\n",
            "\n",
            "--2022-10-18 18:42:51--  https://raw.githubusercontent.com/VeronicaNoe/epiTree/main/data4r/Csp6I-NsiI_mergedAnnot.csv\n",
            "Resolving raw.githubusercontent.com (raw.githubusercontent.com)... 185.199.108.133, 185.199.109.133, 185.199.110.133, ...\n",
            "Connecting to raw.githubusercontent.com (raw.githubusercontent.com)|185.199.108.133|:443... connected.\n",
            "HTTP request sent, awaiting response... 200 OK\n",
            "Length: 10243309 (9.8M) [text/plain]\n",
            "Saving to: ‘annotation/Csp6I-NsiI_mergedAnnot.csv’\n",
            "\n",
            "annotation/Csp6I-Ns 100%[===================>]   9.77M  --.-KB/s    in 0.09s   \n",
            "\n",
            "2022-10-18 18:42:51 (103 MB/s) - ‘annotation/Csp6I-NsiI_mergedAnnot.csv’ saved [10243309/10243309]\n",
            "\n",
            "--2022-10-18 18:42:52--  https://raw.githubusercontent.com/VeronicaNoe/epiTree/main/data4r/AseI-NsiI_mergedAnnot.csv\n",
            "Resolving raw.githubusercontent.com (raw.githubusercontent.com)... 185.199.109.133, 185.199.108.133, 185.199.111.133, ...\n",
            "Connecting to raw.githubusercontent.com (raw.githubusercontent.com)|185.199.109.133|:443... connected.\n",
            "HTTP request sent, awaiting response... 200 OK\n",
            "Length: 5607147 (5.3M) [text/plain]\n",
            "Saving to: ‘annotation/AseI-NsiI_mergedAnnot.csv’\n",
            "\n",
            "annotation/AseI-Nsi 100%[===================>]   5.35M  --.-KB/s    in 0.08s   \n",
            "\n",
            "2022-10-18 18:42:52 (70.4 MB/s) - ‘annotation/AseI-NsiI_mergedAnnot.csv’ saved [5607147/5607147]\n",
            "\n"
          ]
        }
      ]
    },
    {
      "cell_type": "code",
      "source": [
        "%%R\n",
        "#@title Set R environment\n",
        "rm(list=ls())\n",
        "wd<-getwd()\n",
        "baseDir <- gsub(\"/results\", \"\", wd)\n",
        "scriptDir <- file.path(baseDir, \"scripts\")"
      ],
      "metadata": {
        "id": "ujNjNycZgJLr"
      },
      "execution_count": null,
      "outputs": []
    },
    {
      "cell_type": "code",
      "source": [
        "%%R\n",
        "#@title Install R packages\n",
        "install.packages(c(\"data.table\",\"adegenet\",\"poppr\",\"vegan\",\"tidyr\", \"dplyr\"),quiet=TRUE)"
      ],
      "metadata": {
        "id": "D1lbdWNBqJM0"
      },
      "execution_count": null,
      "outputs": []
    },
    {
      "cell_type": "code",
      "source": [
        "%%R\n",
        "#@title Load packages silently\n",
        "## load packages silently\n",
        "suppressPackageStartupMessages({\n",
        "  library(data.table) # file reading\n",
        "  library(adegenet)\n",
        "  library(poppr)\n",
        "  library(vegan)\n",
        "  library(tidyr)\n",
        "  library(dplyr)\n",
        "  source(file.path(scriptDir, \"commonFunctions.R\"), local=TRUE)\n",
        "})"
      ],
      "metadata": {
        "id": "CElzxpA_qQh4"
      },
      "execution_count": null,
      "outputs": []
    },
    {
      "cell_type": "markdown",
      "source": [
        "# Analyzing data step-by-step\n",
        "\n",
        "In this section, we will explore chunk of code to filter the one dataset: *AseI-NsiI*\n"
      ],
      "metadata": {
        "id": "xlZJM64grVYB"
      }
    },
    {
      "cell_type": "markdown",
      "source": [
        "## Load and explore data"
      ],
      "metadata": {
        "id": "bFyd1G545eTm"
      }
    },
    {
      "cell_type": "code",
      "source": [
        "#@title \n",
        "%%R\n",
        "# for genetic data\n",
        "infileSSRdata <- file.path(paste0(baseDir,\"/rawData/\",\"SSR_data.csv\"))\n",
        "# for epigenetic data\n",
        "RE<-c(\"AseI-NsiI\")\n",
        "designTable <- file.path(paste0(baseDir, \"/rawData/\",RE[1], \"_Design_withPlotInfos.txt\"))\n",
        "infileName <- file.path(paste0(baseDir,\"/rawData/\",RE[1],\"_methylation.filtered\"))\n",
        "annotationFile <- file.path(paste0(baseDir, \"/annotation/\",RE[1], \"_mergedAnnot.csv\"))\n"
      ],
      "metadata": {
        "id": "ah3Bw2u-RMeO"
      },
      "execution_count": null,
      "outputs": []
    },
    {
      "cell_type": "code",
      "source": [
        "#@title Load genetic data\n",
        "%%R\n",
        "data<-read.csv(infileSSRdata, header=TRUE, stringsAsFactors = FALSE, row.names = NULL, sep=\"\\t\")\n",
        "str(data)\n",
        "rownames(data)<-data$Pop\n",
        "ind<-as.character(data[,1])\n",
        "site<-as.character(data[,2])\n",
        "data[,1:3]<-NULL\n",
        "data_gen<-df2genind(data, ploidy = 3, ind.names = ind, pop=site, sep=\"_\")\n"
      ],
      "metadata": {
        "colab": {
          "base_uri": "https://localhost:8080/"
        },
        "id": "H7D-qSsJXrMT",
        "outputId": "1071432a-5c0f-4da4-8ed0-dcdc269abce3",
        "cellView": "form"
      },
      "execution_count": null,
      "outputs": [
        {
          "output_type": "stream",
          "name": "stdout",
          "text": [
            "'data.frame':\t17 obs. of  17 variables:\n",
            " $ sample  : chr  \"sample_1_AseI\" \"sample_2_AseI\" \"sample_3_AseI\" \"sample_4_AseI\" ...\n",
            " $ genotype: chr  \"DE_1a\" \"Fl_1\" \"Fl_2a\" \"Fl_2b\" ...\n",
            " $ Pop     : chr  \"DE_1a\" \"Fl_1\" \"Fl_2a\" \"Fl_2b\" ...\n",
            " $ M58     : int  125 125 125 125 125 125 125 125 125 125 ...\n",
            " $ M44     : int  186 185 185 186 186 185 185 185 185 185 ...\n",
            " $ M31     : int  238 238 238 238 238 238 238 238 238 238 ...\n",
            " $ M78_1   : int  164 164 164 164 164 164 164 164 164 164 ...\n",
            " $ M78_2   : int  173 173 172 172 172 172 172 172 172 172 ...\n",
            " $ M61_1   : int  136 136 136 136 136 136 136 135 133 127 ...\n",
            " $ M61_2   : int  138 138 138 138 138 138 138 138 136 136 ...\n",
            " $ M67_1   : int  203 203 203 203 203 203 203 203 203 203 ...\n",
            " $ M67_2   : int  222 222 222 222 222 222 222 222 222 222 ...\n",
            " $ M72_1   : int  175 175 175 175 175 175 175 175 175 175 ...\n",
            " $ M72_2   : int  209 209 209 209 209 209 201 206 209 209 ...\n",
            " $ M143_1  : int  238 238 238 238 238 238 238 238 238 238 ...\n",
            " $ M143_2  : int  240 240 240 240 240 240 240 240 240 240 ...\n",
            " $ M143_3  : int  246 246 246 246 246 246 246 246 246 246 ...\n"
          ]
        }
      ]
    },
    {
      "cell_type": "code",
      "source": [
        "#@title Plot genetic dendrogram\n",
        "%%R\n",
        "# plot\n",
        "pdf(paste0(baseDir,\"/plots/SSR_NeiDistance_UPGMA.pdf\"))\n",
        "data_gen %>% \n",
        "  genind2genpop() %>%\n",
        "  aboot(cutoff = 60, quiet = TRUE, sample = 1000, distance = nei.dist)\n",
        "dev.off()"
      ],
      "metadata": {
        "colab": {
          "base_uri": "https://localhost:8080/"
        },
        "id": "PGAqiEw5SNbD",
        "outputId": "ffcd3246-bc3b-4a56-f80f-20315137bc3e",
        "cellView": "form"
      },
      "execution_count": null,
      "outputs": [
        {
          "output_type": "stream",
          "name": "stdout",
          "text": [
            "\n",
            " Converting data from a genind to a genpop object... \n",
            "\n",
            "...done.\n",
            "\n",
            "png \n",
            "  2 \n"
          ]
        }
      ]
    },
    {
      "cell_type": "code",
      "source": [
        "#@title Load epigenetic data\n",
        "%%R\n",
        "\n",
        "sampleTab <- f.read.sampleTable(designTable) # see commonFunctions.R\n",
        "myData <- f.load.methylation.bed(infileName) # see commonFunctions.R\n",
        "myData<-unite(myData, chrPos, c(chr, pos), sep=\"_\", remove=FALSE)\n",
        "sort(myData$chrPos)\n",
        "rownames(myData)<-myData$chrPos"
      ],
      "metadata": {
        "colab": {
          "base_uri": "https://localhost:8080/"
        },
        "id": "otz52sHiRQG-",
        "outputId": "e50e5655-11b0-4051-8ac8-149cef102eaa",
        "cellView": "form"
      },
      "execution_count": null,
      "outputs": [
        {
          "output_type": "stream",
          "name": "stdout",
          "text": [
            "===  2022 Oct 18 06:43:25 PM === Removing 0 samples due to the sampleRemovalInfo column \n"
          ]
        }
      ]
    },
    {
      "cell_type": "code",
      "source": [
        "#@title Load DMC information\n",
        "%%R\n",
        "temp<-read.csv(\"rawData/00_DMC_table.csv\", header=TRUE, sep=\"\\t\")\n",
        "temp<-unite(temp, chrPos, c(chr, pos), sep=\"_\", remove=FALSE)\n",
        "toKeepRE<-RE[1]\n",
        "temp<-dplyr::filter(temp, RE==toKeepRE)\n",
        "temp<-dplyr::filter(temp, factor==\"Acc\")\n",
        "temp<-dplyr::filter(temp, pvals<=0.05)\n",
        "sort(temp$chrPos)\n",
        "rownames(temp)<-temp$chrPos"
      ],
      "metadata": {
        "id": "EwnnHbXtUe2W",
        "cellView": "form"
      },
      "execution_count": null,
      "outputs": []
    },
    {
      "cell_type": "code",
      "source": [
        "#@title Dendrogramms for each context, analysis and annotation\n",
        "%%R\n",
        "\n",
        "context <- c(\"CG\", \"CHH\", \"CHG\")\n",
        "whichAnalysis<-c(\"all\", \"DMC\")\n",
        "for (j in 1:length(context)){\n",
        "  if (context[j] != \"all\") {\n",
        "      contextFilter <- context[j]\n",
        "      myD <- subset(myData, context == contextFilter)\n",
        "  } else if (context[j] == \"all\"){\n",
        "      myD<-myData\n",
        "  }\n",
        "# subset meth data that has DMC\n",
        "  for (a in 1:length(whichAnalysis)){\n",
        "    if(whichAnalysis[a]==\"all\"){\n",
        "      mD<-myD\n",
        "      feature <- c(\"all\",\"gene\", \"transposon\", \"repeat\", \"nothing\")\n",
        "    } else {\n",
        "      keep<-intersect(sort(rownames(temp)),sort(rownames(myD)))\n",
        "      mD<-myD[keep,]\n",
        "      feature<-c(\"all\",unique(temp$feature))\n",
        "    }\n",
        "    ## a plot for each feature\n",
        "    for (i in 1:length(feature)){\n",
        "      subAnno <- f.load.merged.annotation(annotationFile, feature[i])\n",
        "      toKeep <- gsub(\"chr\", \"\", rownames(subAnno))\n",
        "      commonChr <- sort(intersect(toKeep,as.character(mD$chr)))\n",
        "      df <- mD[as.character(mD$chr) %in% as.character(commonChr),]\n",
        "      if(dim(df)[1]<=4){\n",
        "        next\n",
        "      }else{\n",
        "        ##dendrogram\n",
        "        totalCols <- grep(\"_total$\", colnames(df), value = TRUE)\n",
        "        methCols <- grep(\"_methylated$\", colnames(df), value = TRUE)\n",
        "        totCov <- df[,totalCols]\n",
        "        methCov <- df[,methCols]\n",
        "        colnames(totCov) <- gsub(\"_total$\", \"\", colnames(totCov))\n",
        "        colnames(methCov) <- gsub(\"_methylated$\", \"\", colnames(methCov))\n",
        "        mePerc<-methCov/totCov\n",
        "        datos<-t(mePerc) \n",
        "        datos<-datos[order(rownames(datos)),]\n",
        "        sampleNames<-sampleTab[order(rownames(sampleTab)),]\n",
        "        sampleNames$Sample_name<-rownames(sampleNames)\n",
        "        sampleNames<-unite(sampleNames, roName, Treat,Acc, sep=\":\", remove=TRUE)\n",
        "        rownames(datos)<-sampleNames$roName\n",
        "        onlyControl<-grep(\"Control:\", rownames(datos))\n",
        "        datos<-datos[onlyControl,]\n",
        "        dis <- vegdist(datos, na.rm=TRUE, \"euclid\")\n",
        "        dist<-vegdist(decostand(dis, \"norm\"), \"euclidean\", na.rm=TRUE)\n",
        "        clus<-hclust(dist, \"average\")\n",
        "        dirOut<-paste0(baseDir,\"/plots/\",RE[1],\"_all\" ,\"_Context_methylationLevelsPerFeature.pdf\")\n",
        "        pdf(paste0(baseDir,\"/plots/\",RE[1],\"_\",\"Dendrogram_\",\"allSamples_\",context[j],\"_\",whichAnalysis[a],\"_\", feature[i], \".pdf\"))\n",
        "        plot(clus, cex = 0.6, hang=-0.5,main=paste0(\"Dendrogram_\",RE[1],\"_\",context[j],\"_\",whichAnalysis[a],\"_\", feature[i]))\n",
        "        dev.off()\n",
        "      }\n",
        "    }\n",
        "  }\n",
        "}\n",
        "\n"
      ],
      "metadata": {
        "id": "FjGKfFvQRbRm",
        "cellView": "form"
      },
      "execution_count": null,
      "outputs": []
    },
    {
      "cell_type": "markdown",
      "source": [
        "# Make dendrograms for both epigenetic dataset in each context and genomic feature\n",
        "\n",
        "In this section, the code will run the previous steps for both eigenetic data sets: *AseI-NsiI* and *Csp6I-NsiI*"
      ],
      "metadata": {
        "id": "_JTyIsCY2gOC"
      }
    },
    {
      "cell_type": "code",
      "source": [
        "#@title\n",
        "%%R\n",
        "## process both data epigenetic data set\n",
        "\n",
        "RE<-c(\"AseI-NsiI\", \"Csp6I-NsiI\")\n",
        "for (r in 1:length(RE)){\n",
        "  designTable <- file.path(paste0(baseDir, \"/rawData/\",RE[r], \"_Design_withPlotInfos.txt\"))\n",
        "  infileName <- file.path(paste0(baseDir,\"/rawData/\",RE[r],\"_methylation.filtered\"))\n",
        "  annotationFile <- file.path(paste0(baseDir, \"/annotation/\",RE[r], \"_mergedAnnot.csv\"))\n",
        "  \n",
        "  sampleTab <- f.read.sampleTable(designTable) # see commonFunctions.R\n",
        "  myData <- f.load.methylation.bed(infileName) # see commonFunctions.R\n",
        "  myData<-unite(myData, chrPos, c(chr, pos), sep=\"_\", remove=FALSE)\n",
        "  sort(myData$chrPos)\n",
        "  rownames(myData)<-myData$chrPos\n",
        "  \n",
        "  temp<-read.csv(\"rawData/00_DMC_table.csv\", header=TRUE, sep=\"\\t\")\n",
        "  temp<-unite(temp, chrPos, c(chr, pos), sep=\"_\", remove=FALSE)\n",
        "  toKeepRE<-RE[r]\n",
        "  temp<-dplyr::filter(temp, RE==toKeepRE)\n",
        "  temp<-dplyr::filter(temp, factor==\"Acc\")\n",
        "  temp<-dplyr::filter(temp, pvals<=0.05)\n",
        "  sort(temp$chrPos)\n",
        "  rownames(temp)<-temp$chrPos\n",
        "  \n",
        "  context <- c(\"CG\", \"CHH\", \"CHG\")\n",
        "  whichAnalysis<-c(\"all\", \"DMC\")\n",
        "  for (j in 1:length(context)){\n",
        "    if (context[j] != \"all\") {\n",
        "      contextFilter <- context[j]\n",
        "      myD <- subset(myData, context == contextFilter)\n",
        "    } else if (context[j] == \"all\"){\n",
        "      myD<-myData\n",
        "    }\n",
        "    # subset meth data that has DMC\n",
        "    for (a in 1:length(whichAnalysis)){\n",
        "      if(whichAnalysis[a]==\"all\"){\n",
        "        mD<-myD\n",
        "        feature <- c(\"all\",\"gene\", \"transposon\", \"repeat\", \"nothing\")\n",
        "      } else {\n",
        "        keep<-intersect(sort(rownames(temp)),sort(rownames(myD)))\n",
        "        mD<-myD[keep,]\n",
        "        feature<-c(\"all\",unique(temp$feature))\n",
        "      }\n",
        "      ## a plot for each feature\n",
        "      for (i in 1:length(feature)){\n",
        "        subAnno <- f.load.merged.annotation(annotationFile, feature[i])\n",
        "        toKeep <- gsub(\"chr\", \"\", rownames(subAnno))\n",
        "        commonChr <- sort(intersect(toKeep,as.character(mD$chr)))\n",
        "        df <- mD[as.character(mD$chr) %in% as.character(commonChr),]\n",
        "        if(dim(df)[1]<=4){\n",
        "          next\n",
        "        }else{\n",
        "          ##dendrogram\n",
        "          totalCols <- grep(\"_total$\", colnames(df), value = TRUE)\n",
        "          methCols <- grep(\"_methylated$\", colnames(df), value = TRUE)\n",
        "          totCov <- df[,totalCols]\n",
        "          methCov <- df[,methCols]\n",
        "          colnames(totCov) <- gsub(\"_total$\", \"\", colnames(totCov))\n",
        "          colnames(methCov) <- gsub(\"_methylated$\", \"\", colnames(methCov))\n",
        "          mePerc<-methCov/totCov\n",
        "          datos<-t(mePerc) \n",
        "          datos<-datos[order(rownames(datos)),]\n",
        "          sampleNames<-sampleTab[order(rownames(sampleTab)),]\n",
        "          sampleNames$Sample_name<-rownames(sampleNames)\n",
        "          sampleNames<-unite(sampleNames, roName, Treat,Acc, sep=\":\", remove=TRUE)\n",
        "          rownames(datos)<-sampleNames$roName\n",
        "          onlyControl<-grep(\"Control:\", rownames(datos))\n",
        "          datos<-datos[onlyControl,]\n",
        "          dis <- vegdist(datos, na.rm=TRUE, \"euclid\")\n",
        "          dist<-vegdist(decostand(dis, \"norm\"), \"euclidean\", na.rm=TRUE)\n",
        "          clus<-hclust(dist, \"average\")\n",
        "          dirOut<-paste0(baseDir,\"/plots/\",RE[r],\"_all\" ,\"_Context_methylationLevelsPerFeature.pdf\")\n",
        "          pdf(paste0(baseDir,\"/plots/\",RE[r],\"_\",\"Dendrogram_\",\"allSamples_\",context[j],\"_\",whichAnalysis[a],\"_\", feature[i], \"_2.pdf\"))\n",
        "          plot(clus, cex = 0.6, hang=-0.5,main=paste0(\"Dendrogram_\",RE[r],\"_\",context[j],\"_\",whichAnalysis[a],\"_\", feature[i]))\n",
        "          dev.off()\n",
        "        }\n",
        "      }\n",
        "    }\n",
        "  }\n",
        "}\n"
      ],
      "metadata": {
        "id": "zTIVrZar2gOE"
      },
      "execution_count": null,
      "outputs": []
    }
  ]
}