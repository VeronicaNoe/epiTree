{
  "nbformat": 4,
  "nbformat_minor": 0,
  "metadata": {
    "colab": {
      "provenance": [],
      "collapsed_sections": [
        "tkwTGytJj0Ja",
        "bFyd1G545eTm",
        "V8uiYuT29cMl",
        "_JTyIsCY2gOC"
      ]
    },
    "kernelspec": {
      "name": "python3",
      "display_name": "Python 3"
    },
    "language_info": {
      "name": "python"
    }
  },
  "cells": [
    {
      "cell_type": "markdown",
      "source": [
        "This notebook contains the instructions for reproducing results presented in  \"*Environmental and genealogical signals on DNA methylation in a widespread apomictic dandelion lineage*\" by V.N. Ibañez, M. van Antro, C. Peña Ponton, S. Ivanovic, C.A.M. Wagemaker, F. Gawehns, K.J.F. Verhoeven."
      ],
      "metadata": {
        "id": "BjNx9ydacUOQ"
      }
    },
    {
      "cell_type": "markdown",
      "source": [
        "## Load data and set R environment\n",
        "\n",
        "In this section, we will load the dataset to run the script, configure the working directory and environment."
      ],
      "metadata": {
        "id": "tkwTGytJj0Ja"
      }
    },
    {
      "cell_type": "code",
      "source": [
        "#@title Load files\n",
        "%load_ext rpy2.ipython\n",
        "!rm -r *\n",
        "!mkdir results rawData annotation scripts plots tmp\n",
        "\n",
        "!wget -c -O scripts/commonFunctions.R https://raw.githubusercontent.com/VeronicaNoe/epiTree/main/Rscripts/commonFunctions.R\n",
        "!wget -c -O rawData/AseI-NsiI_Design_withPlotInfos.txt https://raw.githubusercontent.com/VeronicaNoe/epiTree/main/data4r/AseI-NsiI_Design_withPlotInfos.txt\n",
        "!wget -c -O rawData/Csp6I-NsiI_Design_withPlotInfos.txt https://raw.githubusercontent.com/VeronicaNoe/epiTree/main/data4r/Csp6I-NsiI_Design_withPlotInfos.txt\n",
        "\n",
        "!wget -c -O rawData/AseI-NsiI_methylation.filtered https://raw.githubusercontent.com/VeronicaNoe/epiTree/main/data4r/AseI-NsiI_petite.methylation.filtered\n",
        "!wget -c -O rawData/Csp6I-NsiI_methylation.filtered https://raw.githubusercontent.com/VeronicaNoe/epiTree/main/data4r/Csp6I-NsiI_petite.methylation.filtered\n",
        "\n",
        "\n",
        "\n",
        "!wget -c -O annotation/Csp6I-NsiI_mergedAnnot.csv https://raw.githubusercontent.com/VeronicaNoe/epiTree/main/data4r/Csp6I-NsiI_mergedAnnot.csv\n",
        "!wget -c -O annotation/AseI-NsiI_mergedAnnot.csv https://raw.githubusercontent.com/VeronicaNoe/epiTree/main/data4r/AseI-NsiI_mergedAnnot.csv\n"
      ],
      "metadata": {
        "id": "Q--NeS-XcseY",
        "colab": {
          "base_uri": "https://localhost:8080/"
        },
        "outputId": "0b118c7b-bf5f-400d-a4d6-da44eb384de5",
        "cellView": "form"
      },
      "execution_count": 1,
      "outputs": [
        {
          "output_type": "stream",
          "name": "stdout",
          "text": [
            "--2022-09-17 14:12:08--  https://raw.githubusercontent.com/VeronicaNoe/epiTree/main/Rscripts/commonFunctions.R\n",
            "Resolving raw.githubusercontent.com (raw.githubusercontent.com)... 185.199.108.133, 185.199.111.133, 185.199.110.133, ...\n",
            "Connecting to raw.githubusercontent.com (raw.githubusercontent.com)|185.199.108.133|:443... connected.\n",
            "HTTP request sent, awaiting response... 200 OK\n",
            "Length: 18802 (18K) [text/plain]\n",
            "Saving to: ‘scripts/commonFunctions.R’\n",
            "\n",
            "scripts/commonFunct 100%[===================>]  18.36K  --.-KB/s    in 0.003s  \n",
            "\n",
            "2022-09-17 14:12:08 (5.99 MB/s) - ‘scripts/commonFunctions.R’ saved [18802/18802]\n",
            "\n",
            "--2022-09-17 14:12:08--  https://raw.githubusercontent.com/VeronicaNoe/epiTree/main/data4r/AseI-NsiI_Design_withPlotInfos.txt\n",
            "Resolving raw.githubusercontent.com (raw.githubusercontent.com)... 185.199.108.133, 185.199.111.133, 185.199.110.133, ...\n",
            "Connecting to raw.githubusercontent.com (raw.githubusercontent.com)|185.199.108.133|:443... connected.\n",
            "HTTP request sent, awaiting response... 200 OK\n",
            "Length: 2691 (2.6K) [text/plain]\n",
            "Saving to: ‘rawData/AseI-NsiI_Design_withPlotInfos.txt’\n",
            "\n",
            "rawData/AseI-NsiI_D 100%[===================>]   2.63K  --.-KB/s    in 0s      \n",
            "\n",
            "2022-09-17 14:12:09 (30.0 MB/s) - ‘rawData/AseI-NsiI_Design_withPlotInfos.txt’ saved [2691/2691]\n",
            "\n",
            "--2022-09-17 14:12:09--  https://raw.githubusercontent.com/VeronicaNoe/epiTree/main/data4r/Csp6I-NsiI_Design_withPlotInfos.txt\n",
            "Resolving raw.githubusercontent.com (raw.githubusercontent.com)... 185.199.108.133, 185.199.109.133, 185.199.110.133, ...\n",
            "Connecting to raw.githubusercontent.com (raw.githubusercontent.com)|185.199.108.133|:443... connected.\n",
            "HTTP request sent, awaiting response... 200 OK\n",
            "Length: 2725 (2.7K) [text/plain]\n",
            "Saving to: ‘rawData/Csp6I-NsiI_Design_withPlotInfos.txt’\n",
            "\n",
            "rawData/Csp6I-NsiI_ 100%[===================>]   2.66K  --.-KB/s    in 0s      \n",
            "\n",
            "2022-09-17 14:12:09 (43.0 MB/s) - ‘rawData/Csp6I-NsiI_Design_withPlotInfos.txt’ saved [2725/2725]\n",
            "\n",
            "--2022-09-17 14:12:09--  https://raw.githubusercontent.com/VeronicaNoe/epiTree/main/data4r/AseI-NsiI_petite.methylation.filtered\n",
            "Resolving raw.githubusercontent.com (raw.githubusercontent.com)... 185.199.110.133, 185.199.109.133, 185.199.111.133, ...\n",
            "Connecting to raw.githubusercontent.com (raw.githubusercontent.com)|185.199.110.133|:443... connected.\n",
            "HTTP request sent, awaiting response... 200 OK\n",
            "Length: 4093703 (3.9M) [text/plain]\n",
            "Saving to: ‘rawData/AseI-NsiI_methylation.filtered’\n",
            "\n",
            "rawData/AseI-NsiI_m 100%[===================>]   3.90M  24.3MB/s    in 0.2s    \n",
            "\n",
            "2022-09-17 14:12:10 (24.3 MB/s) - ‘rawData/AseI-NsiI_methylation.filtered’ saved [4093703/4093703]\n",
            "\n",
            "--2022-09-17 14:12:10--  https://raw.githubusercontent.com/VeronicaNoe/epiTree/main/data4r/Csp6I-NsiI_petite.methylation.filtered\n",
            "Resolving raw.githubusercontent.com (raw.githubusercontent.com)... 185.199.110.133, 185.199.108.133, 185.199.111.133, ...\n",
            "Connecting to raw.githubusercontent.com (raw.githubusercontent.com)|185.199.110.133|:443... connected.\n",
            "HTTP request sent, awaiting response... 200 OK\n",
            "Length: 4138276 (3.9M) [text/plain]\n",
            "Saving to: ‘rawData/Csp6I-NsiI_methylation.filtered’\n",
            "\n",
            "rawData/Csp6I-NsiI_ 100%[===================>]   3.95M  23.9MB/s    in 0.2s    \n",
            "\n",
            "2022-09-17 14:12:11 (23.9 MB/s) - ‘rawData/Csp6I-NsiI_methylation.filtered’ saved [4138276/4138276]\n",
            "\n",
            "--2022-09-17 14:12:11--  https://raw.githubusercontent.com/VeronicaNoe/epiTree/main/data4r/Csp6I-NsiI_mergedAnnot.csv\n",
            "Resolving raw.githubusercontent.com (raw.githubusercontent.com)... 185.199.110.133, 185.199.108.133, 185.199.111.133, ...\n",
            "Connecting to raw.githubusercontent.com (raw.githubusercontent.com)|185.199.110.133|:443... connected.\n",
            "HTTP request sent, awaiting response... 200 OK\n",
            "Length: 10243309 (9.8M) [text/plain]\n",
            "Saving to: ‘annotation/Csp6I-NsiI_mergedAnnot.csv’\n",
            "\n",
            "annotation/Csp6I-Ns 100%[===================>]   9.77M  39.5MB/s    in 0.2s    \n",
            "\n",
            "2022-09-17 14:12:12 (39.5 MB/s) - ‘annotation/Csp6I-NsiI_mergedAnnot.csv’ saved [10243309/10243309]\n",
            "\n",
            "--2022-09-17 14:12:12--  https://raw.githubusercontent.com/VeronicaNoe/epiTree/main/data4r/AseI-NsiI_mergedAnnot.csv\n",
            "Resolving raw.githubusercontent.com (raw.githubusercontent.com)... 185.199.110.133, 185.199.108.133, 185.199.111.133, ...\n",
            "Connecting to raw.githubusercontent.com (raw.githubusercontent.com)|185.199.110.133|:443... connected.\n",
            "HTTP request sent, awaiting response... 200 OK\n",
            "Length: 5607147 (5.3M) [text/plain]\n",
            "Saving to: ‘annotation/AseI-NsiI_mergedAnnot.csv’\n",
            "\n",
            "annotation/AseI-Nsi 100%[===================>]   5.35M  24.1MB/s    in 0.2s    \n",
            "\n",
            "2022-09-17 14:12:13 (24.1 MB/s) - ‘annotation/AseI-NsiI_mergedAnnot.csv’ saved [5607147/5607147]\n",
            "\n"
          ]
        }
      ]
    },
    {
      "cell_type": "code",
      "source": [
        "%%R\n",
        "#@title Set R environment\n",
        "rm(list=ls())\n",
        "wd<-getwd()\n",
        "baseDir <- gsub(\"/results\", \"\", wd)\n",
        "scriptDir <- file.path(baseDir, \"scripts\")\n"
      ],
      "metadata": {
        "id": "ujNjNycZgJLr",
        "cellView": "form"
      },
      "execution_count": 2,
      "outputs": []
    },
    {
      "cell_type": "code",
      "source": [
        "%%R\n",
        "#@title Install R packages\n",
        "install.packages(c(\"data.table\",\"vegan\"), quiet=TRUE)"
      ],
      "metadata": {
        "id": "D1lbdWNBqJM0",
        "cellView": "form",
        "colab": {
          "base_uri": "https://localhost:8080/"
        },
        "outputId": "f88aaf33-625d-494e-f579-ec4ec7280d0d"
      },
      "execution_count": 3,
      "outputs": [
        {
          "output_type": "stream",
          "name": "stderr",
          "text": [
            "WARNING:rpy2.rinterface_lib.callbacks:R[write to console]: also installing the dependency ‘permute’\n",
            "\n",
            "\n"
          ]
        }
      ]
    },
    {
      "cell_type": "code",
      "source": [
        "%%R\n",
        "#@title Load packages silently\n",
        "## Load packages silently:\n",
        "suppressPackageStartupMessages({\n",
        "  library(data.table)\n",
        "  library(vegan)\n",
        "  source(file.path(scriptDir, \"commonFunctions.R\"), local=TRUE)\n",
        "})\n"
      ],
      "metadata": {
        "id": "CElzxpA_qQh4",
        "cellView": "form"
      },
      "execution_count": 4,
      "outputs": []
    },
    {
      "cell_type": "markdown",
      "source": [
        "# Analyzing data step-by-step\n",
        "\n",
        "In this section, we will explore chunk of code to filter the one dataset: *AseI-NsiI*\n"
      ],
      "metadata": {
        "id": "xlZJM64grVYB"
      }
    },
    {
      "cell_type": "markdown",
      "source": [
        "## Load and explore data"
      ],
      "metadata": {
        "id": "bFyd1G545eTm"
      }
    },
    {
      "cell_type": "code",
      "source": [
        "#@title\n",
        "%%R\n",
        "RE<-\"AseI-NsiI\"\n",
        "designTable <- file.path(paste0(baseDir, \"/rawData/\",RE, \"_Design_withPlotInfos.txt\"))\n",
        "infileName <- file.path(paste0(baseDir,\"/rawData/\",RE,\"_methylation.filtered\"))\n",
        "annotationFile <- file.path(paste0(baseDir, \"/annotation/\",RE, \"_mergedAnnot.csv\"))\n",
        "## Load data\n",
        "colNamesForGrouping <- c(\"Treat\")\n",
        "sampleTab <- f.read.sampleTable(designTable, colNamesForGrouping) # see commonFunctions.R\n",
        "Data <- f.load.methylation.bed(infileName) # see commonFunctions.R\n",
        "ctxt <- c(\"CHH\", \"CG\", \"CHG\")#, \"all\")\n"
      ],
      "metadata": {
        "id": "R8q9k6aS3kts",
        "colab": {
          "base_uri": "https://localhost:8080/"
        },
        "outputId": "644bc128-14bd-4111-d6cc-b5525321c6a1",
        "cellView": "form"
      },
      "execution_count": 5,
      "outputs": [
        {
          "output_type": "stream",
          "name": "stdout",
          "text": [
            "===  2022 Sep 17 02:15:04 PM === Removing 0 samples due to the sampleRemovalInfo column \n"
          ]
        }
      ]
    },
    {
      "cell_type": "markdown",
      "source": [
        "## Make distance files for each context\n",
        "\n"
      ],
      "metadata": {
        "id": "V8uiYuT29cMl"
      }
    },
    {
      "cell_type": "code",
      "source": [
        "#@title\n",
        "%%R\n",
        "#loop for all context\n",
        "for (j in 1:length(ctxt)){\n",
        "  myD <- subset(Data, context == ctxt[j])\n",
        "  totalCols <- grep(\"_total$\", colnames(myD), value = TRUE)\n",
        "  methCols <- grep(\"_methylated$\", colnames(myD), value = TRUE)\n",
        "  totCov <- myD[,totalCols]\n",
        "  methCov <- myD[,methCols]\n",
        "  colnames(totCov) <- gsub(\"_total$\", \"\", colnames(totCov))\n",
        "  colnames(methCov) <- gsub(\"_methylated$\", \"\", colnames(methCov))\n",
        "  # match the samples\n",
        "  commonSamples <- sort(intersect(colnames(totCov), rownames(sampleTab)))\n",
        "  out<-f.meth.distances(methCov, totCov)\n",
        "  #plot the non-Metric MDS\n",
        "  m<-as.matrix(t(out))\n",
        "  d<-as.dist(m)\n",
        "  forPlot <- tryCatch(MASS::isoMDS(d)$points, error = function(e) {NA}, finally = cat(\"###\\n\"))\n",
        "  pdf(paste0(baseDir,\"/plots/\", RE, \"_\",ctxt[j],\"_isoMDS\", \".pdf\"), height = 4, width = 4)\n",
        "  plot(forPlot, pch=sampleTab[rownames(forPlot), \"pch\"], col = sampleTab[rownames(forPlot), \"color\"], main = ctxt[j])\n",
        "  invisible(dev.off())\n",
        "    \n",
        "  #permanova in distance matrix\n",
        "  eti<-sampleTab[order(rownames(sampleTab)),1:3]\n",
        "  eti[, 1:3]<-lapply(eti[,1:3], as.factor)\n",
        "  fit<-adonis(d ~eti$Acc+eti$Treat, data=eti, permutation=10000)\n",
        "  #save results\n",
        "  write.csv(fit$aov.tab, file = paste0(baseDir,\"/results/\",RE,\"_\",ctxt[j], \"_adonis.csv\"), row.names = TRUE)\n",
        "  write.csv(out, file = paste0(baseDir,\"/results/\",RE,\"_\",ctxt[j], \"_Distances.csv\"), row.names = TRUE)\n",
        "}"
      ],
      "metadata": {
        "id": "RnPJJW4X4DSO",
        "colab": {
          "base_uri": "https://localhost:8080/"
        },
        "cellView": "form",
        "outputId": "9ee8e64b-b15f-4898-cfda-f9b85d3f3798"
      },
      "execution_count": 7,
      "outputs": [
        {
          "output_type": "stream",
          "name": "stdout",
          "text": [
            "initial  value 39.396397 \n",
            "iter   5 value 26.148687\n",
            "iter  10 value 25.097781\n",
            "iter  15 value 23.951141\n",
            "final  value 23.428136 \n",
            "converged\n",
            "###\n"
          ]
        },
        {
          "output_type": "stream",
          "name": "stderr",
          "text": [
            "WARNING:rpy2.rinterface_lib.callbacks:R[write to console]: 'adonis' will be deprecated: use 'adonis2' instead\n",
            "\n"
          ]
        },
        {
          "output_type": "stream",
          "name": "stdout",
          "text": [
            "initial  value 35.749204 \n",
            "iter   5 value 25.127177\n",
            "iter  10 value 24.543975\n",
            "iter  10 value 24.534435\n",
            "iter  10 value 24.534435\n",
            "final  value 24.534435 \n",
            "converged\n",
            "###\n"
          ]
        },
        {
          "output_type": "stream",
          "name": "stderr",
          "text": [
            "WARNING:rpy2.rinterface_lib.callbacks:R[write to console]: 'adonis' will be deprecated: use 'adonis2' instead\n",
            "\n"
          ]
        },
        {
          "output_type": "stream",
          "name": "stdout",
          "text": [
            "initial  value 34.478253 \n",
            "iter   5 value 25.318136\n",
            "final  value 25.085618 \n",
            "converged\n",
            "###\n"
          ]
        },
        {
          "output_type": "stream",
          "name": "stderr",
          "text": [
            "WARNING:rpy2.rinterface_lib.callbacks:R[write to console]: 'adonis' will be deprecated: use 'adonis2' instead\n",
            "\n"
          ]
        }
      ]
    },
    {
      "cell_type": "markdown",
      "source": [
        "# A non-metric MDS was used to visualise epigenetic distances \n",
        "\n",
        "In this section, the code will run the previous steps for both datasets: *AseI-NsiI* and *Csp6I-NsiI*"
      ],
      "metadata": {
        "id": "_JTyIsCY2gOC"
      }
    },
    {
      "cell_type": "code",
      "source": [
        "%%R\n",
        "#@ title Characterize both data set: AseI-NsiI and Csp6I-NsiI\n",
        "## process both data set\n",
        "RE<-c(\"AseI-NsiI\", \"Csp6I-NsiI\")\n",
        "for (r in 1:length(RE)){\n",
        "  designTable <- file.path(paste0(baseDir, \"/rawData/\",RE[r], \"_Design_withPlotInfos.txt\"))\n",
        "  infileName <- file.path(paste0(baseDir,\"/rawData/\",RE[r],\"_methylation.filtered\"))\n",
        "  annotationFile <- file.path(paste0(baseDir, \"/annotation/\",RE[r], \"_mergedAnnot.csv\"))\n",
        "  \n",
        "  colNamesForGrouping <- c(\"Treat\")\n",
        "  sampleTab <- f.read.sampleTable(designTable, colNamesForGrouping) # see commonFunctions.R\n",
        "  Data <- f.load.methylation.bed(infileName) # see commonFunctions.R\n",
        "  ctxt <- c(\"CHH\", \"CG\", \"CHG\")#, \"all\")\n",
        "  #loop for all context\n",
        "  for (j in 1:length(ctxt)){\n",
        "    myD <- subset(Data, context == ctxt[j])\n",
        "    totalCols <- grep(\"_total$\", colnames(myD), value = TRUE)\n",
        "    methCols <- grep(\"_methylated$\", colnames(myD), value = TRUE)\n",
        "    totCov <- myD[,totalCols]\n",
        "    methCov <- myD[,methCols]\n",
        "    colnames(totCov) <- gsub(\"_total$\", \"\", colnames(totCov))\n",
        "    colnames(methCov) <- gsub(\"_methylated$\", \"\", colnames(methCov))\n",
        "    # match the samples\n",
        "    commonSamples <- sort(intersect(colnames(totCov), rownames(sampleTab)))\n",
        "    out<-f.meth.distances(methCov, totCov)\n",
        "    #plot the non-Metric MDS\n",
        "    m<-as.matrix(t(out))\n",
        "    d<-as.dist(m)\n",
        "    forPlot <- tryCatch(MASS::isoMDS(d)$points, error = function(e) {NA}, finally = cat(\"###\\n\"))\n",
        "    pdf(paste0(baseDir,\"/plots/\", RE[r], \"_\",ctxt[j],\"_isoMDS\", \".pdf\"), height = 4, width = 4)\n",
        "    plot(forPlot, pch=sampleTab[rownames(forPlot), \"pch\"], col = sampleTab[rownames(forPlot), \"color\"], main = ctxt[j])\n",
        "    invisible(dev.off())\n",
        "    #permanova in distance matrix\n",
        "    eti<-sampleTab[order(rownames(sampleTab)),1:3]\n",
        "    eti[, 1:3]<-lapply(eti[,1:3], as.factor)\n",
        "    fit<-adonis(d ~eti$Acc+eti$Treat, data=eti, permutation=10000)\n",
        "    #save results\n",
        "    write.csv(fit$aov.tab, file = paste0(baseDir,\"/tmp/\",RE[r],\"_\",ctxt[j], \"_adonis.csv\"), row.names = TRUE)\n",
        "    write.csv(out, file = paste0(baseDir,\"/tmp/\",RE[r],\"_\",ctxt[j], \"_Distances.csv\"), row.names = TRUE)\n",
        "  }\n",
        "}  "
      ],
      "metadata": {
        "id": "zTIVrZar2gOE",
        "colab": {
          "base_uri": "https://localhost:8080/"
        },
        "outputId": "b132dc76-43b9-48fc-9c24-6127130f25d5"
      },
      "execution_count": 8,
      "outputs": [
        {
          "output_type": "stream",
          "name": "stdout",
          "text": [
            "===  2022 Sep 17 02:34:11 PM === Removing 0 samples due to the sampleRemovalInfo column \n",
            "initial  value 39.396397 \n",
            "iter   5 value 26.148687\n",
            "iter  10 value 25.097781\n",
            "iter  15 value 23.951141\n",
            "final  value 23.428136 \n",
            "converged\n",
            "###\n"
          ]
        },
        {
          "output_type": "stream",
          "name": "stderr",
          "text": [
            "WARNING:rpy2.rinterface_lib.callbacks:R[write to console]: 'adonis' will be deprecated: use 'adonis2' instead\n",
            "\n"
          ]
        },
        {
          "output_type": "stream",
          "name": "stdout",
          "text": [
            "initial  value 35.749204 \n",
            "iter   5 value 25.127177\n",
            "iter  10 value 24.543975\n",
            "iter  10 value 24.534435\n",
            "iter  10 value 24.534435\n",
            "final  value 24.534435 \n",
            "converged\n",
            "###\n"
          ]
        },
        {
          "output_type": "stream",
          "name": "stderr",
          "text": [
            "WARNING:rpy2.rinterface_lib.callbacks:R[write to console]: 'adonis' will be deprecated: use 'adonis2' instead\n",
            "\n"
          ]
        },
        {
          "output_type": "stream",
          "name": "stdout",
          "text": [
            "initial  value 34.478253 \n",
            "iter   5 value 25.318136\n",
            "final  value 25.085618 \n",
            "converged\n",
            "###\n"
          ]
        },
        {
          "output_type": "stream",
          "name": "stderr",
          "text": [
            "WARNING:rpy2.rinterface_lib.callbacks:R[write to console]: 'adonis' will be deprecated: use 'adonis2' instead\n",
            "\n"
          ]
        },
        {
          "output_type": "stream",
          "name": "stdout",
          "text": [
            "===  2022 Sep 17 02:34:15 PM === Removing 0 samples due to the sampleRemovalInfo column \n",
            "initial  value 37.899099 \n",
            "iter   5 value 25.409275\n",
            "iter  10 value 24.399581\n",
            "final  value 23.749193 \n",
            "converged\n",
            "###\n"
          ]
        },
        {
          "output_type": "stream",
          "name": "stderr",
          "text": [
            "WARNING:rpy2.rinterface_lib.callbacks:R[write to console]: 'adonis' will be deprecated: use 'adonis2' instead\n",
            "\n"
          ]
        },
        {
          "output_type": "stream",
          "name": "stdout",
          "text": [
            "initial  value 36.161017 \n",
            "iter   5 value 25.662068\n",
            "iter  10 value 25.074448\n",
            "iter  10 value 25.062868\n",
            "final  value 24.824763 \n",
            "converged\n",
            "###\n"
          ]
        },
        {
          "output_type": "stream",
          "name": "stderr",
          "text": [
            "WARNING:rpy2.rinterface_lib.callbacks:R[write to console]: 'adonis' will be deprecated: use 'adonis2' instead\n",
            "\n"
          ]
        },
        {
          "output_type": "stream",
          "name": "stdout",
          "text": [
            "initial  value 51.958994 \n",
            "iter   5 value 30.861031\n",
            "final  value 29.338499 \n",
            "converged\n",
            "###\n"
          ]
        },
        {
          "output_type": "stream",
          "name": "stderr",
          "text": [
            "WARNING:rpy2.rinterface_lib.callbacks:R[write to console]: 'adonis' will be deprecated: use 'adonis2' instead\n",
            "\n"
          ]
        }
      ]
    }
  ]
}