{
  "nbformat": 4,
  "nbformat_minor": 0,
  "metadata": {
    "colab": {
      "provenance": [],
      "collapsed_sections": [
        "tkwTGytJj0Ja",
        "xlZJM64grVYB",
        "R_5KHufiAFLT",
        "fC2Nw1YEtKJe",
        "VnlBbZ0atKmB",
        "_JTyIsCY2gOC"
      ]
    },
    "kernelspec": {
      "name": "python3",
      "display_name": "Python 3"
    },
    "language_info": {
      "name": "python"
    }
  },
  "cells": [
    {
      "cell_type": "markdown",
      "source": [
        "This notebook contains the instructions for reproducing results presented in  \"*Environmental and genealogical signals on DNA methylation in a widespread apomictic dandelion lineage*\" by V.N. Ibañez, M. van Antro, C. Peña Ponton, S. Ivanovic, C.A.M. Wagemaker, F. Gawehns, K.J.F. Verhoeven."
      ],
      "metadata": {
        "id": "BjNx9ydacUOQ"
      }
    },
    {
      "cell_type": "markdown",
      "source": [
        "## Load data and set R environment\n",
        "\n",
        "In this section, we will load the dataset to run the script, configure the working directory and environment."
      ],
      "metadata": {
        "id": "tkwTGytJj0Ja"
      }
    },
    {
      "cell_type": "code",
      "source": [
        "#@title Load files\n",
        "%load_ext rpy2.ipython\n",
        "!rm -r *\n",
        "!mkdir results rawData annotation scripts plots tmp\n",
        "\n",
        "!wget -c -O scripts/commonFunctions.R https://raw.githubusercontent.com/VeronicaNoe/epiTree/main/Rscripts/commonFunctions.R\n",
        "!wget -c -O rawData/AseI-NsiI_Design_withPlotInfos.txt https://raw.githubusercontent.com/VeronicaNoe/epiTree/main/data4r/AseI-NsiI_Design_withPlotInfos.txt\n",
        "!wget -c -O rawData/Csp6I-NsiI_Design_withPlotInfos.txt https://raw.githubusercontent.com/VeronicaNoe/epiTree/main/data4r/Csp6I-NsiI_Design_withPlotInfos.txt\n",
        "\n",
        "!wget -c -O rawData/AseI-NsiI_methylation.filtered https://raw.githubusercontent.com/VeronicaNoe/epiTree/main/data4r/AseI-NsiI_petite.methylation.filtered\n",
        "!wget -c -O rawData/Csp6I-NsiI_methylation.filtered https://raw.githubusercontent.com/VeronicaNoe/epiTree/main/data4r/Csp6I-NsiI_petite.methylation.filtered\n",
        "\n",
        "\n",
        "\n",
        "!wget -c -O annotation/Csp6I-NsiI_mergedAnnot.csv https://raw.githubusercontent.com/VeronicaNoe/epiTree/main/data4r/Csp6I-NsiI_mergedAnnot.csv\n",
        "!wget -c -O annotation/AseI-NsiI_mergedAnnot.csv https://raw.githubusercontent.com/VeronicaNoe/epiTree/main/data4r/AseI-NsiI_mergedAnnot.csv\n"
      ],
      "metadata": {
        "id": "Q--NeS-XcseY",
        "colab": {
          "base_uri": "https://localhost:8080/"
        },
        "outputId": "4a378819-b499-4234-9612-076f4f25ee44",
        "cellView": "form"
      },
      "execution_count": 3,
      "outputs": [
        {
          "output_type": "stream",
          "name": "stdout",
          "text": [
            "--2022-09-17 14:04:32--  https://raw.githubusercontent.com/VeronicaNoe/epiTree/main/Rscripts/commonFunctions.R\n",
            "Resolving raw.githubusercontent.com (raw.githubusercontent.com)... 185.199.108.133, 185.199.111.133, 185.199.110.133, ...\n",
            "Connecting to raw.githubusercontent.com (raw.githubusercontent.com)|185.199.108.133|:443... connected.\n",
            "HTTP request sent, awaiting response... 200 OK\n",
            "Length: 18802 (18K) [text/plain]\n",
            "Saving to: ‘scripts/commonFunctions.R’\n",
            "\n",
            "\r          scripts/c   0%[                    ]       0  --.-KB/s               \rscripts/commonFunct 100%[===================>]  18.36K  --.-KB/s    in 0.001s  \n",
            "\n",
            "2022-09-17 14:04:32 (12.0 MB/s) - ‘scripts/commonFunctions.R’ saved [18802/18802]\n",
            "\n",
            "--2022-09-17 14:04:32--  https://raw.githubusercontent.com/VeronicaNoe/epiTree/main/data4r/AseI-NsiI_Design_withPlotInfos.txt\n",
            "Resolving raw.githubusercontent.com (raw.githubusercontent.com)... 185.199.109.133, 185.199.110.133, 185.199.111.133, ...\n",
            "Connecting to raw.githubusercontent.com (raw.githubusercontent.com)|185.199.109.133|:443... connected.\n",
            "HTTP request sent, awaiting response... 200 OK\n",
            "Length: 2691 (2.6K) [text/plain]\n",
            "Saving to: ‘rawData/AseI-NsiI_Design_withPlotInfos.txt’\n",
            "\n",
            "rawData/AseI-NsiI_D 100%[===================>]   2.63K  --.-KB/s    in 0s      \n",
            "\n",
            "2022-09-17 14:04:32 (25.3 MB/s) - ‘rawData/AseI-NsiI_Design_withPlotInfos.txt’ saved [2691/2691]\n",
            "\n",
            "--2022-09-17 14:04:32--  https://raw.githubusercontent.com/VeronicaNoe/epiTree/main/data4r/Csp6I-NsiI_Design_withPlotInfos.txt\n",
            "Resolving raw.githubusercontent.com (raw.githubusercontent.com)... 185.199.108.133, 185.199.109.133, 185.199.110.133, ...\n",
            "Connecting to raw.githubusercontent.com (raw.githubusercontent.com)|185.199.108.133|:443... connected.\n",
            "HTTP request sent, awaiting response... 200 OK\n",
            "Length: 2725 (2.7K) [text/plain]\n",
            "Saving to: ‘rawData/Csp6I-NsiI_Design_withPlotInfos.txt’\n",
            "\n",
            "rawData/Csp6I-NsiI_ 100%[===================>]   2.66K  --.-KB/s    in 0s      \n",
            "\n",
            "2022-09-17 14:04:32 (37.4 MB/s) - ‘rawData/Csp6I-NsiI_Design_withPlotInfos.txt’ saved [2725/2725]\n",
            "\n",
            "--2022-09-17 14:04:32--  https://raw.githubusercontent.com/VeronicaNoe/epiTree/main/data4r/AseI-NsiI_petite.methylation.filtered\n",
            "Resolving raw.githubusercontent.com (raw.githubusercontent.com)... 185.199.111.133, 185.199.109.133, 185.199.110.133, ...\n",
            "Connecting to raw.githubusercontent.com (raw.githubusercontent.com)|185.199.111.133|:443... connected.\n",
            "HTTP request sent, awaiting response... 200 OK\n",
            "Length: 4093703 (3.9M) [text/plain]\n",
            "Saving to: ‘rawData/AseI-NsiI_methylation.filtered’\n",
            "\n",
            "rawData/AseI-NsiI_m 100%[===================>]   3.90M  --.-KB/s    in 0.09s   \n",
            "\n",
            "2022-09-17 14:04:33 (44.3 MB/s) - ‘rawData/AseI-NsiI_methylation.filtered’ saved [4093703/4093703]\n",
            "\n",
            "--2022-09-17 14:04:33--  https://raw.githubusercontent.com/VeronicaNoe/epiTree/main/data4r/Csp6I-NsiI_petite.methylation.filtered\n",
            "Resolving raw.githubusercontent.com (raw.githubusercontent.com)... 185.199.108.133, 185.199.109.133, 185.199.110.133, ...\n",
            "Connecting to raw.githubusercontent.com (raw.githubusercontent.com)|185.199.108.133|:443... connected.\n",
            "HTTP request sent, awaiting response... 200 OK\n",
            "Length: 4138276 (3.9M) [text/plain]\n",
            "Saving to: ‘rawData/Csp6I-NsiI_methylation.filtered’\n",
            "\n",
            "rawData/Csp6I-NsiI_ 100%[===================>]   3.95M  --.-KB/s    in 0.09s   \n",
            "\n",
            "2022-09-17 14:04:33 (44.4 MB/s) - ‘rawData/Csp6I-NsiI_methylation.filtered’ saved [4138276/4138276]\n",
            "\n",
            "--2022-09-17 14:04:33--  https://raw.githubusercontent.com/VeronicaNoe/epiTree/main/data4r/Csp6I-NsiI_mergedAnnot.csv\n",
            "Resolving raw.githubusercontent.com (raw.githubusercontent.com)... 185.199.109.133, 185.199.111.133, 185.199.110.133, ...\n",
            "Connecting to raw.githubusercontent.com (raw.githubusercontent.com)|185.199.109.133|:443... connected.\n",
            "HTTP request sent, awaiting response... 200 OK\n",
            "Length: 10243309 (9.8M) [text/plain]\n",
            "Saving to: ‘annotation/Csp6I-NsiI_mergedAnnot.csv’\n",
            "\n",
            "annotation/Csp6I-Ns 100%[===================>]   9.77M  --.-KB/s    in 0.1s    \n",
            "\n",
            "2022-09-17 14:04:33 (84.2 MB/s) - ‘annotation/Csp6I-NsiI_mergedAnnot.csv’ saved [10243309/10243309]\n",
            "\n",
            "--2022-09-17 14:04:33--  https://raw.githubusercontent.com/VeronicaNoe/epiTree/main/data4r/AseI-NsiI_mergedAnnot.csv\n",
            "Resolving raw.githubusercontent.com (raw.githubusercontent.com)... 185.199.108.133, 185.199.109.133, 185.199.110.133, ...\n",
            "Connecting to raw.githubusercontent.com (raw.githubusercontent.com)|185.199.108.133|:443... connected.\n",
            "HTTP request sent, awaiting response... 200 OK\n",
            "Length: 5607147 (5.3M) [text/plain]\n",
            "Saving to: ‘annotation/AseI-NsiI_mergedAnnot.csv’\n",
            "\n",
            "annotation/AseI-Nsi 100%[===================>]   5.35M  --.-KB/s    in 0.1s    \n",
            "\n",
            "2022-09-17 14:04:33 (54.5 MB/s) - ‘annotation/AseI-NsiI_mergedAnnot.csv’ saved [5607147/5607147]\n",
            "\n"
          ]
        }
      ]
    },
    {
      "cell_type": "code",
      "source": [
        "%%R\n",
        "#@title Set R environment\n",
        "rm(list=ls())\n",
        "wd<-getwd()\n",
        "baseDir <- gsub(\"/results\", \"\", wd)\n",
        "scriptDir <- file.path(baseDir, \"scripts\")\n"
      ],
      "metadata": {
        "id": "ujNjNycZgJLr",
        "cellView": "form"
      },
      "execution_count": 4,
      "outputs": []
    },
    {
      "cell_type": "code",
      "source": [
        "%%R\n",
        "#@title Install R packages\n",
        "install.packages(c(\"data.table\",\"vioplot\",\"vegan\",\"reshape2\"), quiet=TRUE)"
      ],
      "metadata": {
        "id": "D1lbdWNBqJM0",
        "cellView": "form"
      },
      "execution_count": 5,
      "outputs": []
    },
    {
      "cell_type": "code",
      "source": [
        "%%R\n",
        "#@title Load packages silently\n",
        "## Load packages silently:\n",
        "suppressPackageStartupMessages({\n",
        "  library(data.table)\n",
        "  library(vioplot) # plotting\n",
        "  library(vegan)\n",
        "  library(reshape2)\n",
        "  source(file.path(scriptDir, \"commonFunctions.R\"), local=TRUE)\n",
        "})\n"
      ],
      "metadata": {
        "id": "CElzxpA_qQh4",
        "cellView": "form"
      },
      "execution_count": 6,
      "outputs": []
    },
    {
      "cell_type": "markdown",
      "source": [
        "# Analyzing data step-by-step\n",
        "\n",
        "In this section, we will explore chunk of code to filter the one dataset: *AseI-NsiI*\n"
      ],
      "metadata": {
        "id": "xlZJM64grVYB"
      }
    },
    {
      "cell_type": "markdown",
      "source": [
        "## Load and explore data"
      ],
      "metadata": {
        "id": "bFyd1G545eTm"
      }
    },
    {
      "cell_type": "code",
      "source": [
        "#@title\n",
        "%%R\n",
        "RE<-\"AseI-NsiI\"\n",
        "designTable <- file.path(paste0(baseDir, \"/rawData/\",RE, \"_Design_withPlotInfos.txt\"))\n",
        "infileName <- file.path(paste0(baseDir,\"/rawData/\",RE,\"_methylation.filtered\"))\n",
        "annotationFile <- file.path(paste0(baseDir, \"/annotation/\",RE, \"_mergedAnnot.csv\"))\n",
        "## Load data\n",
        "sampleTab <- f.read.sampleTable(designTable)\n",
        "mePerc <- f.load.methylation.bed(infileName, percentages = TRUE) # see commonFunctions.R\n",
        "infoColumns <- c(\"chr\", \"pos\", \"context\")\n",
        "allSamples <- setdiff(colnames(mePerc), infoColumns)\n",
        "sampleTab <- sampleTab[allSamples,]\n",
        "print(mePerc[1:10,1:10]) "
      ],
      "metadata": {
        "id": "R8q9k6aS3kts",
        "colab": {
          "base_uri": "https://localhost:8080/"
        },
        "outputId": "480c9346-d607-4954-c9d4-35b1f9ad30d3"
      },
      "execution_count": 31,
      "outputs": [
        {
          "output_type": "stream",
          "name": "stdout",
          "text": [
            "===  2022 Sep 17 01:44:57 PM === Removing 0 samples due to the sampleRemovalInfo column \n",
            "   chr pos context sample_1_AseI sample_10_AseI sample_11_AseI sample_12_AseI\n",
            "1   38  23     CHG        95.238         84.000         93.939         87.097\n",
            "2   38  28     CHH         4.762          0.000          0.000          0.000\n",
            "3   38  36     CHH         0.000          4.000          0.000          0.000\n",
            "4   38  61     CHG        45.000         60.000         57.576         48.387\n",
            "5   38  81      CG       100.000         96.000        100.000         87.097\n",
            "6   38 108     CHH         9.524         12.000          9.375         19.355\n",
            "7   38 112     CHG       100.000        100.000         84.848         93.548\n",
            "8   38 135     CHG        95.000         83.333         90.323         93.333\n",
            "9   38 142      CG       100.000         95.833        100.000        100.000\n",
            "10  38 149     CHH            NA          0.000          0.000          0.000\n",
            "   sample_13_AseI sample_15_AseI sample_16_AseI\n",
            "1          97.143        100.000         94.444\n",
            "2           2.857          5.882          0.000\n",
            "3           5.714          0.000          0.000\n",
            "4          42.857         52.941         61.111\n",
            "5          94.286         93.750         94.444\n",
            "6           8.571          5.882         16.667\n",
            "7          87.097         94.118         94.118\n",
            "8          80.000         93.750        100.000\n",
            "9         100.000         86.667        100.000\n",
            "10          0.000          0.000          5.882\n"
          ]
        }
      ]
    },
    {
      "cell_type": "markdown",
      "source": [
        "## Descriptive analysis with overall methylation levels.\n",
        "\n"
      ],
      "metadata": {
        "id": "V8uiYuT29cMl"
      }
    },
    {
      "cell_type": "code",
      "source": [
        "#@title\n",
        "%%R\n",
        "## Average within groups \n",
        "#Select on what to average\n",
        "aveData <- f.summarize.columns(mePerc, data.frame(sample = rownames(sampleTab), group = sampleTab$Treat, stringsAsFactors = FALSE), function(x) mean(x, na.rm = TRUE))\n",
        "aveDataInfo <- mePerc[,infoColumns]\n",
        "rownames(aveDataInfo) <- paste0(\"chr\", aveDataInfo$chr, \"_\", aveDataInfo$pos)\n",
        "rownames(aveData) <- rownames(aveDataInfo)\n",
        "## Choose a group order for the plot and set the colors\n",
        "forPlotOrder <- c(\"Control\", \"Shade\")\n",
        "aveData <- aveData[, match(forPlotOrder, colnames(aveData))]\n",
        "temp <- unique(sampleTab[,c(\"Treat\",\"color\")])\n",
        "plotColors <- temp$color; names(plotColors) <- temp$Treat"
      ],
      "metadata": {
        "id": "RnPJJW4X4DSO"
      },
      "execution_count": 32,
      "outputs": []
    },
    {
      "cell_type": "markdown",
      "source": [
        "## Draw a histogram\n",
        "\n"
      ],
      "metadata": {
        "id": "R_5KHufiAFLT"
      }
    },
    {
      "cell_type": "code",
      "source": [
        "#@title\n",
        "%%R\n",
        "## Draw histograms\n",
        "allContexts <- c(\"CG\", \"CHG\", \"CHH\")#\n",
        "numPlotRows <- 1 #\n",
        "numPlotCols <- length(allContexts)\n",
        "pdf(file.path(paste0(baseDir,\"/plots/\", RE, \"_histo.pdf\")))\n",
        "par(oma = c(2, 2, 2, 2))\n",
        "layout(matrix(1:(numPlotRows*numPlotCols), nrow = numPlotRows, byrow = TRUE))\n",
        "for (ctxt in allContexts) {\n",
        "  subData <- subset(mePerc, mePerc$context==ctxt)\n",
        "  toPlot<-reshape2::melt(subData, id=infoColumns)\n",
        "  histo<-hist(toPlot$value, breaks=seq(0,100,10),  plot=FALSE)\n",
        "  ymax<-max(histo$counts)\n",
        "  plot(histo, main=ctxt, xlab=\"\", ylim=c(0, ymax*1.5))\n",
        "}\n",
        "invisible(dev.off())"
      ],
      "metadata": {
        "id": "KKLmGVf44Tse"
      },
      "execution_count": 36,
      "outputs": []
    },
    {
      "cell_type": "markdown",
      "source": [
        "## Draw a violin plot\n",
        "\n"
      ],
      "metadata": {
        "id": "fC2Nw1YEtKJe"
      }
    },
    {
      "cell_type": "code",
      "source": [
        "#@title\n",
        "%%R\n",
        "## Draw violin plots\n",
        "allContexts <- c(\"CG\", \"CHG\", \"CHH\")#, \"all\") \n",
        "numPlotRows <- 1 \n",
        "numPlotCols <- length(allContexts)\n",
        "allMeans <- matrix(NA, nrow = length(forPlotOrder), ncol = numPlotCols, dimnames = list(forPlotOrder, allContexts))\n",
        "aveData <- aveData[rownames(aveDataInfo),] \n",
        "  \n",
        "pdf(paste0(baseDir,\"/plots/\", RE, \"_Context_methylationLevelsViolinPlot.pdf\"), height = 5*numPlotRows, width = 2+length(forPlotOrder)*numPlotCols)\n",
        "par(oma = c(12, 8, 3, 0), mar = c(0, 0, 0, 0))\n",
        "layout(matrix(1:(numPlotRows*numPlotCols), nrow = numPlotRows, byrow = TRUE))\n",
        "for (ctxt in allContexts) {\n",
        "  if (ctxt == \"all\") {\n",
        "    subData <- aveData\n",
        "  } else {\n",
        "    subData <- aveData[aveDataInfo$context == ctxt,]\n",
        "  }\n",
        "  plot(NA, main = ctxt, bty = \"n\", xaxs = \"r\", yaxs = \"r\", xlab = \"\", ylab = \"\", las = 1, cex = 0.2, tck = 0.01, xlim = c(0.5, length(forPlotOrder)+0.5), ylim = c(0, 100), xaxt = \"n\", yaxt = \"n\")\n",
        "  curPos <- 1\n",
        "  for (curGroup in forPlotOrder) {\n",
        "    toPlot <- subData[,curGroup]\n",
        "    toPlot <- toPlot[!is.na(toPlot)]\n",
        "    curCol <- plotColors[curGroup]\n",
        "    if (sum(toPlot > 0) > 4) {\n",
        "      vioplot(toPlot, names = c(curGroup), col = curCol, ylim = c(0,100), drawRect = TRUE, add = TRUE, at = curPos)\n",
        "    }\n",
        "  curMean <- mean(toPlot)\n",
        "  lines(c(curPos-0.3,curPos+0.3), c(curMean, curMean), col = \"black\", lwd = 4, lty = 1)\n",
        "  curPos <- curPos + 1\n",
        "  allMeans[curGroup,ctxt] <- curMean # add the mean to the collection\n",
        "  }\n",
        "  if (ctxt != \"all\") { axis(2, at = seq(0, 100, by = 20), labels = seq(0, 100, by = 20), outer = TRUE, las = 1, line=2, lwd=2, cex.axis=2) }\n",
        "    axis(1, at = 1:length(forPlotOrder), labels = forPlotOrder, outer = TRUE, las = 2, line=2, lwd=2, cex.axis=3)\n",
        "}\n",
        "invisible(dev.off())\n",
        "write.csv(round(allMeans, 3), file.path(paste0(baseDir,\"/tmp/\",RE, \"_Context_methylationLevelsViolinPlot_means.csv\")))"
      ],
      "metadata": {
        "id": "-XjDy16qkV4c"
      },
      "execution_count": 37,
      "outputs": []
    },
    {
      "cell_type": "markdown",
      "source": [
        "## Draw a heatmap\n",
        "\n"
      ],
      "metadata": {
        "id": "VnlBbZ0atKmB"
      }
    },
    {
      "cell_type": "code",
      "source": [
        "#@title\n",
        "%%R\n",
        "## Get the average methylation level per group, context, feature\n",
        "allFeatures <- c(\"gene\", \"transposon\", \"repeat\", \"nothing\")\n",
        "forMask <- paste0(\"chr\", aveDataInfo$chr)\n",
        "listForPlot <- list()\n",
        "for (ctxt in allContexts) {\n",
        "  if (ctxt == \"all\") {\n",
        "    contextMask <- rep(TRUE, nrow(aveDataInfo))\n",
        "  } else {\n",
        "    contextMask <- aveDataInfo$context == ctxt\n",
        "  }\n",
        "  featureMeans <- matrix(NA, nrow = length(allFeatures), ncol = length(forPlotOrder), dimnames = list(allFeatures, forPlotOrder))\n",
        "  for (feature in allFeatures) {\n",
        "    mergedAnno <- f.load.merged.annotation(annotationFile, feature)\n",
        "    annoMask <- forMask %in% rownames(mergedAnno)\n",
        "    subData <- aveData[annoMask & contextMask,]\n",
        "    featureMeans[feature, colnames(aveData)] <- colMeans(subData, na.rm = TRUE)\n",
        "  }\n",
        "  listForPlot[[ctxt]] <- featureMeans\n",
        "}\n",
        "\n",
        "# do the plot\n",
        "dirOut<-paste0(baseDir,\"/plots/\",RE, \"_Context_methylationLevelsPerFeature.pdf\")\n",
        "imageColors <- f.blackblueyellowredpinkNICE(51) \n",
        "pdf(dirOut, height = 5*numPlotRows, width = 2+length(forPlotOrder)*numPlotCols)\n",
        "layout(matrix(1:(numPlotRows*numPlotCols), nrow = numPlotRows, byrow = TRUE))\n",
        "for (ctxt in allContexts) {\n",
        "  temp <- listForPlot[[ctxt]]\n",
        "  f.image.without.text(forPlotOrder, allFeatures, t(temp), xLabel = \"\", yLabel = \"\", mainLabel = ctxt, useLog = FALSE, col = imageColors, zlim = c(0, 100))\n",
        "  #write.csv(round(temp, 3), paste0(baseDir,\"/tmp/\",RE,\"_methylationLevelsPerFeature_\",ctxt, \".csv\"))\n",
        "  }\n",
        "invisible(dev.off())"
      ],
      "metadata": {
        "id": "uFNKjvAtkble"
      },
      "execution_count": 39,
      "outputs": []
    },
    {
      "cell_type": "markdown",
      "source": [
        "# Descriptive analysis with overall methylation levels\n",
        "\n",
        "\n",
        "In this section, the code will run the previous steps for both datasets: *AseI-NsiI* and *Csp6I-NsiI*"
      ],
      "metadata": {
        "id": "_JTyIsCY2gOC"
      }
    },
    {
      "cell_type": "code",
      "source": [
        "%%R\n",
        "#@ title Characterize both data set: AseI-NsiI and Csp6I-NsiI\n",
        "## process both data set\n",
        "RE<-c(\"AseI-NsiI\", \"Csp6I-NsiI\")\n",
        "for (r in 1:length(RE)){\n",
        "  designTable <- file.path(paste0(baseDir, \"/rawData/\",RE[r], \"_Design_withPlotInfos.txt\"))\n",
        "  infileName <- file.path(paste0(baseDir,\"/rawData/\",RE[r],\"_methylation.filtered\"))\n",
        "  annotationFile <- file.path(paste0(baseDir, \"/annotation/\",RE[r], \"_mergedAnnot.csv\"))\n",
        "  ## Load data\n",
        "  sampleTab <- f.read.sampleTable(designTable)\n",
        "  mePerc <- f.load.methylation.bed(infileName, percentages = TRUE) # see commonFunctions.R\n",
        "  infoColumns <- c(\"chr\", \"pos\", \"context\")\n",
        "  allSamples <- setdiff(colnames(mePerc), infoColumns)\n",
        "  sampleTab <- sampleTab[allSamples,]\n",
        "\n",
        "  ## Average within groups \n",
        "  #Select on what to average\n",
        "  aveData <- f.summarize.columns(mePerc, data.frame(sample = rownames(sampleTab), group = sampleTab$Treat, stringsAsFactors = FALSE), function(x) mean(x, na.rm = TRUE))\n",
        "  aveDataInfo <- mePerc[,infoColumns]\n",
        "  rownames(aveDataInfo) <- paste0(\"chr\", aveDataInfo$chr, \"_\", aveDataInfo$pos)\n",
        "  rownames(aveData) <- rownames(aveDataInfo)\n",
        "  ## Choose a group order for the plot and set the colors\n",
        "  forPlotOrder <- c(\"Control\", \"Shade\")\n",
        "  aveData <- aveData[, match(forPlotOrder, colnames(aveData))]\n",
        "  temp <- unique(sampleTab[,c(\"Treat\",\"color\")])\n",
        "  plotColors <- temp$color; names(plotColors) <- temp$Treat\n",
        "  ## Draw histograms\n",
        "  allContexts <- c(\"CG\", \"CHG\", \"CHH\")#\n",
        "  numPlotRows <- 1 #\n",
        "  numPlotCols <- length(allContexts)\n",
        "  pdf(file.path(paste0(baseDir,\"/plots/\", RE[r], \"_histo.pdf\")))\n",
        "  par(oma = c(2, 2, 2, 2))\n",
        "  layout(matrix(1:(numPlotRows*numPlotCols), nrow = numPlotRows, byrow = TRUE))\n",
        "  for (ctxt in allContexts) {\n",
        "    subData <- subset(mePerc, mePerc$context==ctxt)\n",
        "    toPlot<-reshape2::melt(subData, id=infoColumns)\n",
        "    histo<-hist(toPlot$value, breaks=seq(0,100,10),  plot=FALSE)\n",
        "    ymax<-max(histo$counts)\n",
        "    plot(histo, main=ctxt, xlab=\"\", ylim=c(0, ymax*1.5))\n",
        "  }\n",
        "  invisible(dev.off())\n",
        "\n",
        "  ## Draw violin plots\n",
        "  allContexts <- c(\"CG\", \"CHG\", \"CHH\")#, \"all\") \n",
        "  numPlotRows <- 1 \n",
        "  numPlotCols <- length(allContexts)\n",
        "  allMeans <- matrix(NA, nrow = length(forPlotOrder), ncol = numPlotCols, dimnames = list(forPlotOrder, allContexts))\n",
        "  aveData <- aveData[rownames(aveDataInfo),] \n",
        "  \n",
        "  pdf(paste0(baseDir,\"/plots/\", RE[r], \"_Context_methylationLevelsViolinPlot.pdf\"), height = 5*numPlotRows, width = 2+length(forPlotOrder)*numPlotCols)\n",
        "  par(oma = c(12, 8, 3, 0), mar = c(0, 0, 0, 0))\n",
        "  layout(matrix(1:(numPlotRows*numPlotCols), nrow = numPlotRows, byrow = TRUE))\n",
        "  for (ctxt in allContexts) {\n",
        "    if (ctxt == \"all\") {\n",
        "      subData <- aveData\n",
        "    } else {\n",
        "      subData <- aveData[aveDataInfo$context == ctxt,]\n",
        "    }\n",
        "    plot(NA, main = ctxt, bty = \"n\", xaxs = \"r\", yaxs = \"r\", xlab = \"\", ylab = \"\", las = 1, cex = 0.2, tck = 0.01, xlim = c(0.5, length(forPlotOrder)+0.5), ylim = c(0, 100), xaxt = \"n\", yaxt = \"n\")\n",
        "    curPos <- 1\n",
        "    for (curGroup in forPlotOrder) {\n",
        "    toPlot <- subData[,curGroup]\n",
        "    toPlot <- toPlot[!is.na(toPlot)]\n",
        "    curCol <- plotColors[curGroup]\n",
        "    if (sum(toPlot > 0) > 4) {\n",
        "      vioplot(toPlot, names = c(curGroup), col = curCol, ylim = c(0,100), drawRect = TRUE, add = TRUE, at = curPos)\n",
        "      }\n",
        "    curMean <- mean(toPlot)\n",
        "    lines(c(curPos-0.3,curPos+0.3), c(curMean, curMean), col = \"black\", lwd = 4, lty = 1)\n",
        "    curPos <- curPos + 1\n",
        "    allMeans[curGroup,ctxt] <- curMean # add the mean to the collection\n",
        "    }\n",
        "    if (ctxt != \"all\") { axis(2, at = seq(0, 100, by = 20), labels = seq(0, 100, by = 20), outer = TRUE, las = 1, line=2, lwd=2, cex.axis=2) }\n",
        "    axis(1, at = 1:length(forPlotOrder), labels = forPlotOrder, outer = TRUE, las = 2, line=2, lwd=2, cex.axis=3)\n",
        "  }\n",
        "  invisible(dev.off())\n",
        "  write.csv(round(allMeans, 3), file.path(paste0(baseDir,\"/tmp/\",RE[r], \"_Context_methylationLevelsViolinPlot_means.csv\")))\n",
        "\n",
        "  ## Get the average methylation level per group, context, feature\n",
        "  allFeatures <- c(\"gene\", \"transposon\", \"repeat\", \"nothing\")\n",
        "  forMask <- paste0(\"chr\", aveDataInfo$chr)\n",
        "  listForPlot <- list()\n",
        "  \n",
        "  for (ctxt in allContexts) {\n",
        "    if (ctxt == \"all\") {\n",
        "      contextMask <- rep(TRUE, nrow(aveDataInfo))\n",
        "    } else {\n",
        "      contextMask <- aveDataInfo$context == ctxt\n",
        "    }\n",
        "    featureMeans <- matrix(NA, nrow = length(allFeatures), ncol = length(forPlotOrder), dimnames = list(allFeatures, forPlotOrder))\n",
        "    for (feature in allFeatures) {\n",
        "      mergedAnno <- f.load.merged.annotation(annotationFile, feature)\n",
        "      annoMask <- forMask %in% rownames(mergedAnno)\n",
        "      subData <- aveData[annoMask & contextMask,]\n",
        "      featureMeans[feature, colnames(aveData)] <- colMeans(subData, na.rm = TRUE)\n",
        "    }\n",
        "    listForPlot[[ctxt]] <- featureMeans\n",
        "  }\n",
        "  \n",
        "  ## Do the plot\n",
        "  dirOut<-paste0(baseDir,\"/plots/\",RE[r], \"_Context_methylationLevelsPerFeature.pdf\")\n",
        "  imageColors <- f.blackblueyellowredpinkNICE(51) \n",
        "  pdf(dirOut, height = 5*numPlotRows, width = 2+length(forPlotOrder)*numPlotCols)\n",
        "  layout(matrix(1:(numPlotRows*numPlotCols), nrow = numPlotRows, byrow = TRUE))\n",
        "  for (ctxt in allContexts) {\n",
        "    temp <- listForPlot[[ctxt]]\n",
        "    f.image.without.text(forPlotOrder, allFeatures, t(temp), xLabel = \"\", yLabel = \"\", mainLabel = ctxt, useLog = FALSE, col = imageColors, zlim = c(0, 100))\n",
        "    write.csv(round(temp, 3), paste0(baseDir,\"/tmp/\",RE[r],\"_methylationLevelsPerFeature_\",ctxt, \".csv\"))\n",
        "    }\n",
        "  invisible(dev.off())\n",
        "}"
      ],
      "metadata": {
        "id": "zTIVrZar2gOE",
        "colab": {
          "base_uri": "https://localhost:8080/"
        },
        "outputId": "4625ae9c-7d62-4233-d813-33bda58f638c"
      },
      "execution_count": 7,
      "outputs": [
        {
          "output_type": "stream",
          "name": "stdout",
          "text": [
            "===  2022 Sep 17 02:06:01 PM === Removing 0 samples due to the sampleRemovalInfo column \n",
            "===  2022 Sep 17 02:06:06 PM === Removing 0 samples due to the sampleRemovalInfo column \n"
          ]
        }
      ]
    }
  ]
}