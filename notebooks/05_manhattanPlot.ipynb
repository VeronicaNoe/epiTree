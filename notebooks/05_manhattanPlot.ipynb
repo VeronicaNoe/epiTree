{
  "nbformat": 4,
  "nbformat_minor": 0,
  "metadata": {
    "colab": {
      "provenance": [],
      "collapsed_sections": [
        "tkwTGytJj0Ja",
        "xlZJM64grVYB",
        "_JTyIsCY2gOC"
      ]
    },
    "kernelspec": {
      "name": "python3",
      "display_name": "Python 3"
    },
    "language_info": {
      "name": "python"
    }
  },
  "cells": [
    {
      "cell_type": "markdown",
      "source": [
        "This notebook contains the instructions for reproducing results presented in  \"*Environmental and genealogical signals on DNA methylation in a widespread apomictic dandelion lineage*\" by V.N. Ibañez, M. van Antro, C. Peña Ponton, S. Ivanovic, C.A.M. Wagemaker, F. Gawehns, K.J.F. Verhoeven."
      ],
      "metadata": {
        "id": "BjNx9ydacUOQ"
      }
    },
    {
      "cell_type": "markdown",
      "source": [
        "## Load data and set R environment\n",
        "\n",
        "In this section, we will load the dataset to run the script, configure the working directory and environment."
      ],
      "metadata": {
        "id": "tkwTGytJj0Ja"
      }
    },
    {
      "cell_type": "code",
      "source": [
        "#@title Load files\n",
        "%load_ext rpy2.ipython\n",
        "!rm -r *\n",
        "!mkdir results rawData annotation scripts plots tmp\n",
        "!wget -c -O scripts/commonFunctions.R https://raw.githubusercontent.com/VeronicaNoe/epiTree/main/Rscripts/commonFunctions.R\n",
        "!wget -c -O rawData/00_DMC_table.csv https://raw.githubusercontent.com/VeronicaNoe/epiTree/main/data4r/00_DMC_table.csv"
      ],
      "metadata": {
        "id": "Q--NeS-XcseY",
        "colab": {
          "base_uri": "https://localhost:8080/"
        },
        "outputId": "78588aa1-5ee8-4868-aa22-cee724eab5c4",
        "cellView": "form"
      },
      "execution_count": 19,
      "outputs": [
        {
          "output_type": "stream",
          "name": "stdout",
          "text": [
            "The rpy2.ipython extension is already loaded. To reload it, use:\n",
            "  %reload_ext rpy2.ipython\n",
            "--2022-09-17 16:41:23--  https://raw.githubusercontent.com/VeronicaNoe/epiTree/main/Rscripts/commonFunctions.R\n",
            "Resolving raw.githubusercontent.com (raw.githubusercontent.com)... 185.199.108.133, 185.199.109.133, 185.199.110.133, ...\n",
            "Connecting to raw.githubusercontent.com (raw.githubusercontent.com)|185.199.108.133|:443... connected.\n",
            "HTTP request sent, awaiting response... 200 OK\n",
            "Length: 18802 (18K) [text/plain]\n",
            "Saving to: ‘scripts/commonFunctions.R’\n",
            "\n",
            "scripts/commonFunct 100%[===================>]  18.36K  --.-KB/s    in 0s      \n",
            "\n",
            "2022-09-17 16:41:23 (47.6 MB/s) - ‘scripts/commonFunctions.R’ saved [18802/18802]\n",
            "\n",
            "--2022-09-17 16:41:23--  https://raw.githubusercontent.com/VeronicaNoe/epiTree/main/data4r/00_DMC_table.csv\n",
            "Resolving raw.githubusercontent.com (raw.githubusercontent.com)... 185.199.110.133, 185.199.111.133, 185.199.109.133, ...\n",
            "Connecting to raw.githubusercontent.com (raw.githubusercontent.com)|185.199.110.133|:443... connected.\n",
            "HTTP request sent, awaiting response... 200 OK\n",
            "Length: 7426892 (7.1M) [text/plain]\n",
            "Saving to: ‘rawData/00_DMC_table.csv’\n",
            "\n",
            "rawData/00_DMC_tabl 100%[===================>]   7.08M  --.-KB/s    in 0.07s   \n",
            "\n",
            "2022-09-17 16:41:24 (106 MB/s) - ‘rawData/00_DMC_table.csv’ saved [7426892/7426892]\n",
            "\n"
          ]
        }
      ]
    },
    {
      "cell_type": "code",
      "source": [
        "%%R\n",
        "#@title Set R environment\n",
        "rm(list=ls())\n",
        "wd<-getwd()\n",
        "baseDir <- gsub(\"/results\", \"\", wd)\n",
        "scriptDir <- file.path(baseDir, \"scripts\")\n"
      ],
      "metadata": {
        "id": "ujNjNycZgJLr",
        "cellView": "form"
      },
      "execution_count": 15,
      "outputs": []
    },
    {
      "cell_type": "code",
      "source": [
        "%%R\n",
        "#@title Install R packages\n",
        "install.packages(c(\"data.table\",\"qqman\",\"dplyr\",\"plyr\",\"tidyr\"),quiet=TRUE)"
      ],
      "metadata": {
        "id": "D1lbdWNBqJM0",
        "cellView": "form"
      },
      "execution_count": 16,
      "outputs": []
    },
    {
      "cell_type": "code",
      "source": [
        "%%R\n",
        "#@title Load packages silently\n",
        "## load packages silently\n",
        "suppressPackageStartupMessages({\n",
        "  library(\"data.table\") # file reading\n",
        "  library(\"qqman\")\n",
        "  library(\"plyr\")\n",
        "  library(\"dplyr\")\n",
        "  library(\"tidyr\")\n",
        "  source(file.path(scriptDir, \"commonFunctions.R\"))\n",
        "})\n"
      ],
      "metadata": {
        "id": "CElzxpA_qQh4",
        "cellView": "form"
      },
      "execution_count": 25,
      "outputs": []
    },
    {
      "cell_type": "markdown",
      "source": [
        "# Analyzing data step-by-step\n",
        "\n",
        "In this section, we will explore chunk of code to filter the one dataset: *AseI-NsiI*\n"
      ],
      "metadata": {
        "id": "xlZJM64grVYB"
      }
    },
    {
      "cell_type": "markdown",
      "source": [
        "## Load and explore data"
      ],
      "metadata": {
        "id": "bFyd1G545eTm"
      }
    },
    {
      "cell_type": "code",
      "source": [
        "#@title\n",
        "%%R\n",
        "infileName <- file.path(paste0(baseDir,\"/rawData/\",\"00_DMC_table.csv\"))\n",
        "data<-read.csv(infileName, header=TRUE, sep=\"\\t\")\n",
        "head(data)"
      ],
      "metadata": {
        "colab": {
          "base_uri": "https://localhost:8080/"
        },
        "cellView": "form",
        "id": "EwnnHbXtUe2W",
        "outputId": "e136bc3b-eb8d-4045-ef73-c8f1d5d464c2"
      },
      "execution_count": 22,
      "outputs": [
        {
          "output_type": "stream",
          "name": "stdout",
          "text": [
            "    chr pos      stat     pvals      fdrs        RE factor context feature\n",
            "1 12089  21 0.6110785 0.5411476 0.5660592 AseI-NsiI    Acc      CG    gene\n",
            "2 12089  22 0.7122345 0.4763196 0.5401882 AseI-NsiI    Acc      CG    gene\n",
            "3 12089  51 0.5364717 0.5916326 0.5997154 AseI-NsiI    Acc      CG    gene\n",
            "4 12089  52 0.7385639 0.4601718 0.5401882 AseI-NsiI    Acc      CG    gene\n",
            "5 12089  55 0.8021251 0.4224806 0.5401882 AseI-NsiI    Acc      CG    gene\n",
            "6 12089  56 0.7732340 0.4393839 0.5401882 AseI-NsiI    Acc      CG    gene\n"
          ]
        }
      ]
    },
    {
      "cell_type": "code",
      "source": [
        "#@title\n",
        "%%R\n",
        "RE<-\"AseI-NsiI\"\n",
        "toUse<-RE\n",
        "dfDMC<-dplyr::filter(data, RE==toUse)\n",
        "dfDMC<-dplyr::filter(dfDMC, fdrs!=\"NA\")\n",
        "dfDMC<-dplyr::filter(dfDMC, factor==\"Treat\")\n",
        "dfDMC<-unite(dfDMC, chrPos, c(chr, pos), sep=\"_\", remove=FALSE)\n",
        "dfDMC$chr<-as.numeric(dfDMC$chr)"
      ],
      "metadata": {
        "id": "GRy9mfujJNVb",
        "cellView": "form"
      },
      "execution_count": 26,
      "outputs": []
    },
    {
      "cell_type": "code",
      "source": [
        "%%R\n",
        "#@title\n",
        "DMC<-dplyr::filter(dfDMC, fdrs<=0.05)\n",
        "uniReg<-unique(DMC$chr)"
      ],
      "metadata": {
        "id": "2GiuV-KOKxin",
        "cellView": "form"
      },
      "execution_count": 27,
      "outputs": []
    },
    {
      "cell_type": "code",
      "source": [
        "%%R\n",
        "#@title\n",
        "outdf<-matrix(NA, nrow=length(uniReg), ncol = 2)  \n",
        "for(i in 1:length(uniReg)){\n",
        "  hits<-sum(DMC$chr==uniReg[i])\n",
        "  colnames(outdf) <- c(\"chr\",\"ocurrences\")\n",
        "  outdf[i,1]<-uniReg[i]\n",
        "  outdf[i,2]<-hits\n",
        "}\n"
      ],
      "metadata": {
        "cellView": "form",
        "id": "OxZqAgJvWM3_"
      },
      "execution_count": 29,
      "outputs": []
    },
    {
      "cell_type": "code",
      "source": [
        "%%R\n",
        "#@title\n",
        "outdf<-data.frame(outdf)\n",
        "outdf <- outdf[order(-outdf$ocurrences),]\n",
        "out<-dplyr::filter(outdf, ocurrences>=5)\n",
        "out<-out[order(out$chr),]\n",
        "write.csv(out, paste0(baseDir,\"/results/\",RE,\"_DMRegions.csv\"),row.names = FALSE)\n"
      ],
      "metadata": {
        "cellView": "form",
        "id": "L7Sm2nUoWn6B"
      },
      "execution_count": 30,
      "outputs": []
    },
    {
      "cell_type": "code",
      "source": [
        "%%R  \n",
        "#@title\n",
        "outDir<-paste0(baseDir,\"/plots/\", RE,\"_\")\n",
        "ctxt <- c(\"CG\",\"CHG\",\"CHH\")\n",
        "for (i in 1:length(ctxt)){\n",
        "  df<-dplyr::filter(dfDMC, context==ctxt[i])\n",
        "  toPlot<-dplyr::filter(DMC, DMC$context==ctxt[i])\n",
        "  snpOfInterest<-intersect(toPlot$chr,out$chr)\n",
        "  snpOfInterest<-sort(snpOfInterest)\n",
        "  pdf(paste0(outDir,ctxt[i],\"_manhattanPlot.pdf\"))\n",
        "  manhattan(df, chr = \"chr\", bp = \"pos\", p = \"fdrs\", highlight =snpOfInterest, \n",
        "            snp = \"chr\", annotatePval = 0.05, annotateTop=TRUE, col = c(\"gray60\"), \n",
        "            chrlabs = NULL, main = paste0(\"DMC_for_\",ctxt[i], \"_context\",\" (\",RE,\")\"), \n",
        "            suggestiveline = -log10(5e-02), xlab=\"epiGBS fragment\", ylab=expression('-log'[10]*' (FDR)'))\n",
        "  dev.off()\n",
        "}"
      ],
      "metadata": {
        "cellView": "form",
        "id": "lzNsJrv9XHJN"
      },
      "execution_count": 34,
      "outputs": []
    },
    {
      "cell_type": "markdown",
      "source": [
        "# Make the manhattan plot for both dataset in each context\n",
        "\n",
        "In this section, the code will run the previous steps for both datasets: *AseI-NsiI* and *Csp6I-NsiI*"
      ],
      "metadata": {
        "id": "_JTyIsCY2gOC"
      }
    },
    {
      "cell_type": "code",
      "source": [
        "%%R\n",
        "#@title Visualize both data set: AseI-NsiI and Csp6I-NsiI\n",
        "## process both data set\n",
        "infileName <- file.path(paste0(baseDir,\"/rawData/\",\"00_DMC_table.csv\"))\n",
        "data<-read.csv(infileName, header=TRUE, sep=\"\\t\")\n",
        "head(data)\n",
        "\n",
        "RE<-c(\"AseI-NsiI\", \"Csp6I-NsiI\")\n",
        "for (r in 1:length(RE)){\n",
        "  toUse<-RE[r]\n",
        "  dfDMC<-dplyr::filter(data, RE==toUse)\n",
        "  dfDMC<-dplyr::filter(dfDMC, fdrs!=\"NA\")\n",
        "  dfDMC<-dplyr::filter(dfDMC, factor==\"Treat\")\n",
        "  dfDMC<-unite(dfDMC, chrPos, c(chr, pos), sep=\"_\", remove=FALSE)\n",
        "  dfDMC$chr<-as.numeric(dfDMC$chr)\n",
        "  \n",
        "  DMC<-dplyr::filter(dfDMC, fdrs<=0.05)\n",
        "  uniReg<-unique(DMC$chr)\n",
        "  \n",
        "  outdf<-matrix(NA, nrow=length(uniReg), ncol = 2)  \n",
        "  for(i in 1:length(uniReg)){\n",
        "    hits<-sum(DMC$chr==uniReg[i])\n",
        "    colnames(outdf) <- c(\"chr\",\"ocurrences\")\n",
        "    outdf[i,1]<-uniReg[i]\n",
        "    outdf[i,2]<-hits\n",
        "  }\n",
        "  outdf<-data.frame(outdf)\n",
        "  outdf <- outdf[order(-outdf$ocurrences),]\n",
        "  out<-dplyr::filter(outdf, ocurrences>=5)\n",
        "  out<-out[order(out$chr),]\n",
        "  write.csv(out, paste0(baseDir,\"_\",RE[r],\"_Regions.csv\"),row.names = FALSE)\n",
        "  \n",
        "  outDir<-paste0(baseDir,\"/plots/\", RE[r],\"_\")\n",
        "  #ctxt <- c(\"CHH\", \"CG\", \"CHG\")\n",
        "  ctxt <- c(\"CG\",\"CHG\",\"CHH\")\n",
        "  for (i in 1:length(ctxt)){\n",
        "    df<-dplyr::filter(dfDMC, context==ctxt[i])\n",
        "    sum(is.na(df))\n",
        "    toPlot<-dplyr::filter(DMC, DMC$context==ctxt[i])\n",
        "    snpOfInterest<-intersect(toPlot$chr,out$chr)\n",
        "    snpOfInterest<-sort(snpOfInterest)\n",
        "    pdf(paste0(outDir,ctxt[i],\"_manhattanPlot.pdf\"))\n",
        "    manhattan(df, chr = \"chr\", bp = \"pos\", p = \"fdrs\", highlight =snpOfInterest, \n",
        "              snp = \"chr\", annotatePval = 0.05, annotateTop=TRUE, col = c(\"gray60\"), \n",
        "              chrlabs = NULL, main = paste0(\"DMC_for_\",ctxt[i], \"_context\",\" (\",RE[r],\")\"), \n",
        "              suggestiveline = -log10(5e-02), xlab=\"epiGBS fragment\", ylab=expression('-log'[10]*' (FDR)'))\n",
        "    dev.off()\n",
        "    }\n",
        "  }"
      ],
      "metadata": {
        "id": "zTIVrZar2gOE",
        "cellView": "form"
      },
      "execution_count": 36,
      "outputs": []
    }
  ]
}